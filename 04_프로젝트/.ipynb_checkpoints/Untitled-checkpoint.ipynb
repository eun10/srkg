{
 "cells": [
  {
   "cell_type": "code",
   "execution_count": null,
   "id": "5705dd46-e11e-4adb-bfef-674dd1593202",
   "metadata": {},
   "outputs": [],
   "source": [
    "import pandas as pd\n",
    "import re\n",
    "import matplotlib.pyplot as plt\n",
    "df = pd.read_csv(\"전처리.csv\", encoding=\"UTF-8\")\n",
    "from sklearn.model_selection import train_test_split\n",
    "from sklearn.linear_model import LinearRegression\n",
    "import matplotlib\n",
    "import matplotlib.pyplot as plt\n",
    "import numpy as np\n",
    "matplotlib.rcParams[\"font.family\"] = \"Malgun Gothic\"\n",
    "matplotlib.rcParams[\"font.size\"] = 10.0\n",
    "matplotlib.rcParams[\"axes.unicode_minus\"] = False\n",
    "\n",
    "x = df[[\"경상수지\", \"달러인덱스\", \"외환보유고\"]]\n",
    "\n",
    "y = df[[\"종가\"]]\n",
    "\n",
    "x_train, x_test, y_train, y_test = train_test_split(x, y, train_size=0.8, test_size=0.2)\n",
    "\n",
    "learning = LinearRegression()\n",
    "learning.fit(x_train, y_train)\n",
    "\n",
    "\n",
    "y_predict = learning.predict(x_test)"
   ]
  },
  {
   "cell_type": "code",
   "execution_count": null,
   "id": "dfe71e9d-d6a6-436f-b44b-4eae2f7ec35f",
   "metadata": {},
   "outputs": [],
   "source": [
    "df = df.loc[:, ~df.columns.str.contains('^Unnamed')] # 이름없는 열 무시\n",
    "\n",
    "df"
   ]
  },
  {
   "cell_type": "code",
   "execution_count": null,
   "id": "b80e030b-ed5a-4039-84cc-cff86b3749a0",
   "metadata": {},
   "outputs": [],
   "source": [
    "# 시각화\n",
    "df['연도']=df['날짜'].str.split('-').str.get(0)\n",
    "df\n",
    "plt.figure(figsize=(20, 8))\n",
    "plt.plot(df['연도'],df['경상수지'],label = '경상수지')\n",
    "plt.show()"
   ]
  },
  {
   "cell_type": "code",
   "execution_count": null,
   "id": "8de39e59-c9a3-481c-8616-b614a3349e82",
   "metadata": {},
   "outputs": [],
   "source": []
  },
  {
   "cell_type": "code",
   "execution_count": null,
   "id": "5a8bb302-d6b8-4ca3-96b5-4ab372932c95",
   "metadata": {},
   "outputs": [],
   "source": [
    "xs      = df['DATE'].to_list()\n",
    "xlabels = df['DATE'].apply(lambda x: x[4:]).to_list() #// 람다로 YYYYMMDD에서 MMDD만 추출하여 사용\n",
    "ys      = df['AMOUNT'].to_list()\n",
    "plt.plot(xs, ys)\n",
    "plt.xticks(ticks=xs, labels=xlabels, rotation=45)\n",
    "plt.xlabel('2020 Daily Trend')\n",
    "plt.locator_params(axis='x', nbins=len(xlabels)/2)"
   ]
  }
 ],
 "metadata": {
  "kernelspec": {
   "display_name": "Python 3 (ipykernel)",
   "language": "python",
   "name": "python3"
  },
  "language_info": {
   "codemirror_mode": {
    "name": "ipython",
    "version": 3
   },
   "file_extension": ".py",
   "mimetype": "text/x-python",
   "name": "python",
   "nbconvert_exporter": "python",
   "pygments_lexer": "ipython3",
   "version": "3.9.12"
  }
 },
 "nbformat": 4,
 "nbformat_minor": 5
}

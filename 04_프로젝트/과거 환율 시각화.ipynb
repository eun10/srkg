{
 "cells": [
  {
   "cell_type": "code",
   "execution_count": 1,
   "id": "cda5291c-6ebf-4469-bcb9-6157897ada3f",
   "metadata": {
    "tags": []
   },
   "outputs": [],
   "source": [
    "# !pip install pandas-datareader\n",
    "# !pip install mplfinance \n",
    "# !pip install plotly "
   ]
  },
  {
   "cell_type": "code",
   "execution_count": 2,
   "id": "00a94f4a-5157-43bd-8740-1837f42dca15",
   "metadata": {
    "tags": []
   },
   "outputs": [],
   "source": [
    "# !pip install https://github.com/matplotlib/mpl_finance/archive/master.zip"
   ]
  },
  {
   "cell_type": "code",
   "execution_count": 3,
   "id": "628351b2-3822-40cf-91e8-baff4e53d690",
   "metadata": {
    "collapsed": true,
    "jupyter": {
     "outputs_hidden": true
    },
    "tags": []
   },
   "outputs": [
    {
     "name": "stderr",
     "output_type": "stream",
     "text": [
      "C:\\Users\\user\\anaconda3\\envs\\go\\lib\\site-packages\\mpl_finance.py:16: DeprecationWarning: \n",
      "\n",
      "  =================================================================\n",
      "\n",
      "   WARNING: `mpl_finance` is deprecated:\n",
      "\n",
      "    Please use `mplfinance` instead (no hyphen, no underscore).\n",
      "\n",
      "    To install: `pip install --upgrade mplfinance` \n",
      "\n",
      "   For more information, see: https://pypi.org/project/mplfinance/\n",
      "\n",
      "  =================================================================\n",
      "\n",
      "  __warnings.warn('\\n\\n  ================================================================='+\n"
     ]
    }
   ],
   "source": [
    "import pandas_datareader.data as web\n",
    "import numpy as np\n",
    "import pandas_datareader.data as web\n",
    "from mpl_finance import candlestick2_ohlc\n",
    "import matplotlib.ticker as ticker\n",
    "import matplotlib.pyplot as plt\n",
    "import pandas as pd\n",
    "from pandas_datareader import data  \n",
    "from datetime import datetime\n",
    "import mplfinance as mpf"
   ]
  },
  {
   "cell_type": "code",
   "execution_count": 4,
   "id": "533ff792-7743-4758-8773-6a6f8dbe10bc",
   "metadata": {},
   "outputs": [],
   "source": [
    "df = pd.read_csv('환율전체.csv')"
   ]
  },
  {
   "cell_type": "code",
   "execution_count": 5,
   "id": "e64610c7-c01e-4dc7-b6af-571e14f3b8c7",
   "metadata": {},
   "outputs": [
    {
     "name": "stdout",
     "output_type": "stream",
     "text": [
      "<class 'pandas.core.frame.DataFrame'>\n",
      "RangeIndex: 15245 entries, 0 to 15244\n",
      "Data columns (total 2 columns):\n",
      " #   Column  Non-Null Count  Dtype \n",
      "---  ------  --------------  ----- \n",
      " 0   날짜      15245 non-null  object\n",
      " 1   환율      11589 non-null  object\n",
      "dtypes: object(2)\n",
      "memory usage: 238.3+ KB\n"
     ]
    }
   ],
   "source": [
    "df.info()"
   ]
  },
  {
   "cell_type": "code",
   "execution_count": 6,
   "id": "273a300d-1746-4644-a042-daa3792938c8",
   "metadata": {},
   "outputs": [],
   "source": [
    "df['환율'] = df['환율'].str.replace(',','').astype('float')"
   ]
  },
  {
   "cell_type": "code",
   "execution_count": 7,
   "id": "16afa9a4-4e16-4862-bc55-8d745225b114",
   "metadata": {},
   "outputs": [
    {
     "name": "stdout",
     "output_type": "stream",
     "text": [
      "<class 'pandas.core.frame.DataFrame'>\n",
      "RangeIndex: 15245 entries, 0 to 15244\n",
      "Data columns (total 2 columns):\n",
      " #   Column  Non-Null Count  Dtype  \n",
      "---  ------  --------------  -----  \n",
      " 0   날짜      15245 non-null  object \n",
      " 1   환율      11589 non-null  float64\n",
      "dtypes: float64(1), object(1)\n",
      "memory usage: 238.3+ KB\n"
     ]
    }
   ],
   "source": [
    "df.info()"
   ]
  },
  {
   "cell_type": "code",
   "execution_count": 8,
   "id": "ad416e52-7a85-4e5d-9c03-453d86462ff9",
   "metadata": {},
   "outputs": [
    {
     "data": {
      "text/html": [
       "<div>\n",
       "<style scoped>\n",
       "    .dataframe tbody tr th:only-of-type {\n",
       "        vertical-align: middle;\n",
       "    }\n",
       "\n",
       "    .dataframe tbody tr th {\n",
       "        vertical-align: top;\n",
       "    }\n",
       "\n",
       "    .dataframe thead th {\n",
       "        text-align: right;\n",
       "    }\n",
       "</style>\n",
       "<table border=\"1\" class=\"dataframe\">\n",
       "  <thead>\n",
       "    <tr style=\"text-align: right;\">\n",
       "      <th></th>\n",
       "      <th>날짜</th>\n",
       "      <th>환율</th>\n",
       "    </tr>\n",
       "  </thead>\n",
       "  <tbody>\n",
       "    <tr>\n",
       "      <th>0</th>\n",
       "      <td>1981-01-01</td>\n",
       "      <td>NaN</td>\n",
       "    </tr>\n",
       "    <tr>\n",
       "      <th>1</th>\n",
       "      <td>1981-01-02</td>\n",
       "      <td>NaN</td>\n",
       "    </tr>\n",
       "    <tr>\n",
       "      <th>2</th>\n",
       "      <td>1981-01-03</td>\n",
       "      <td>NaN</td>\n",
       "    </tr>\n",
       "    <tr>\n",
       "      <th>3</th>\n",
       "      <td>1981-01-04</td>\n",
       "      <td>NaN</td>\n",
       "    </tr>\n",
       "    <tr>\n",
       "      <th>4</th>\n",
       "      <td>1981-01-05</td>\n",
       "      <td>659.8</td>\n",
       "    </tr>\n",
       "    <tr>\n",
       "      <th>...</th>\n",
       "      <td>...</td>\n",
       "      <td>...</td>\n",
       "    </tr>\n",
       "    <tr>\n",
       "      <th>15240</th>\n",
       "      <td>2022-09-23</td>\n",
       "      <td>1408.0</td>\n",
       "    </tr>\n",
       "    <tr>\n",
       "      <th>15241</th>\n",
       "      <td>2022-09-24</td>\n",
       "      <td>NaN</td>\n",
       "    </tr>\n",
       "    <tr>\n",
       "      <th>15242</th>\n",
       "      <td>2022-09-25</td>\n",
       "      <td>NaN</td>\n",
       "    </tr>\n",
       "    <tr>\n",
       "      <th>15243</th>\n",
       "      <td>2022-09-26</td>\n",
       "      <td>1408.4</td>\n",
       "    </tr>\n",
       "    <tr>\n",
       "      <th>15244</th>\n",
       "      <td>2022-09-27</td>\n",
       "      <td>1429.7</td>\n",
       "    </tr>\n",
       "  </tbody>\n",
       "</table>\n",
       "<p>15245 rows × 2 columns</p>\n",
       "</div>"
      ],
      "text/plain": [
       "               날짜      환율\n",
       "0      1981-01-01     NaN\n",
       "1      1981-01-02     NaN\n",
       "2      1981-01-03     NaN\n",
       "3      1981-01-04     NaN\n",
       "4      1981-01-05   659.8\n",
       "...           ...     ...\n",
       "15240  2022-09-23  1408.0\n",
       "15241  2022-09-24     NaN\n",
       "15242  2022-09-25     NaN\n",
       "15243  2022-09-26  1408.4\n",
       "15244  2022-09-27  1429.7\n",
       "\n",
       "[15245 rows x 2 columns]"
      ]
     },
     "execution_count": 8,
     "metadata": {},
     "output_type": "execute_result"
    }
   ],
   "source": [
    "df"
   ]
  },
  {
   "cell_type": "code",
   "execution_count": 9,
   "id": "5154d8d6-fee0-48a5-ab46-aefe7a756954",
   "metadata": {},
   "outputs": [],
   "source": [
    "df = df.set_index('날짜')"
   ]
  },
  {
   "cell_type": "code",
   "execution_count": 10,
   "id": "a589d6b9-831a-468d-8ba3-c2362bb9ebe5",
   "metadata": {},
   "outputs": [
    {
     "name": "stdout",
     "output_type": "stream",
     "text": [
      "<class 'pandas.core.frame.DataFrame'>\n",
      "Index: 15245 entries, 1981-01-01 to 2022-09-27\n",
      "Data columns (total 1 columns):\n",
      " #   Column  Non-Null Count  Dtype  \n",
      "---  ------  --------------  -----  \n",
      " 0   환율      11589 non-null  float64\n",
      "dtypes: float64(1)\n",
      "memory usage: 238.2+ KB\n"
     ]
    }
   ],
   "source": [
    "df.info()"
   ]
  },
  {
   "cell_type": "code",
   "execution_count": 11,
   "id": "a9457b84-81a3-4f97-b095-334f69dfb8ab",
   "metadata": {},
   "outputs": [],
   "source": [
    "a = df.loc['1997-01-01':'1999-01-01']['환율']"
   ]
  },
  {
   "cell_type": "code",
   "execution_count": 12,
   "id": "eebda05c-af04-4a5c-b5da-624b383dbf1b",
   "metadata": {},
   "outputs": [
    {
     "data": {
      "text/plain": [
       "날짜\n",
       "1997-01-01       NaN\n",
       "1997-01-02       NaN\n",
       "1997-01-03     844.6\n",
       "1997-01-04     842.7\n",
       "1997-01-05       NaN\n",
       "               ...  \n",
       "1998-12-28    1207.0\n",
       "1998-12-29    1209.9\n",
       "1998-12-30    1209.3\n",
       "1998-12-31    1207.8\n",
       "1999-01-01       NaN\n",
       "Name: 환율, Length: 731, dtype: float64"
      ]
     },
     "execution_count": 12,
     "metadata": {},
     "output_type": "execute_result"
    }
   ],
   "source": [
    "a "
   ]
  },
  {
   "cell_type": "code",
   "execution_count": 13,
   "id": "40ec2a4b-2bc5-4c2f-8947-3492d8140124",
   "metadata": {},
   "outputs": [
    {
     "name": "stdout",
     "output_type": "stream",
     "text": [
      "<class 'pandas.core.series.Series'>\n",
      "Index: 731 entries, 1997-01-01 to 1999-01-01\n",
      "Series name: 환율\n",
      "Non-Null Count  Dtype  \n",
      "--------------  -----  \n",
      "593 non-null    float64\n",
      "dtypes: float64(1)\n",
      "memory usage: 27.6+ KB\n"
     ]
    }
   ],
   "source": [
    "a.info()"
   ]
  },
  {
   "cell_type": "code",
   "execution_count": 14,
   "id": "cfd726d6-0977-494e-9f76-d9f27783457a",
   "metadata": {},
   "outputs": [],
   "source": [
    "a = a.to_frame()"
   ]
  },
  {
   "cell_type": "code",
   "execution_count": 16,
   "id": "28a613b3-90e4-4b49-8535-40a1343844d3",
   "metadata": {},
   "outputs": [],
   "source": [
    "a['날짜'] = a.index"
   ]
  },
  {
   "cell_type": "code",
   "execution_count": 17,
   "id": "6377a337-ee2b-4ebb-a615-9ca7aa38de11",
   "metadata": {},
   "outputs": [
    {
     "data": {
      "text/html": [
       "<div>\n",
       "<style scoped>\n",
       "    .dataframe tbody tr th:only-of-type {\n",
       "        vertical-align: middle;\n",
       "    }\n",
       "\n",
       "    .dataframe tbody tr th {\n",
       "        vertical-align: top;\n",
       "    }\n",
       "\n",
       "    .dataframe thead th {\n",
       "        text-align: right;\n",
       "    }\n",
       "</style>\n",
       "<table border=\"1\" class=\"dataframe\">\n",
       "  <thead>\n",
       "    <tr style=\"text-align: right;\">\n",
       "      <th></th>\n",
       "      <th>환율</th>\n",
       "      <th>날짜</th>\n",
       "    </tr>\n",
       "    <tr>\n",
       "      <th>날짜</th>\n",
       "      <th></th>\n",
       "      <th></th>\n",
       "    </tr>\n",
       "  </thead>\n",
       "  <tbody>\n",
       "    <tr>\n",
       "      <th>1997-01-01</th>\n",
       "      <td>NaN</td>\n",
       "      <td>1997-01-01</td>\n",
       "    </tr>\n",
       "    <tr>\n",
       "      <th>1997-01-02</th>\n",
       "      <td>NaN</td>\n",
       "      <td>1997-01-02</td>\n",
       "    </tr>\n",
       "    <tr>\n",
       "      <th>1997-01-03</th>\n",
       "      <td>844.6</td>\n",
       "      <td>1997-01-03</td>\n",
       "    </tr>\n",
       "    <tr>\n",
       "      <th>1997-01-04</th>\n",
       "      <td>842.7</td>\n",
       "      <td>1997-01-04</td>\n",
       "    </tr>\n",
       "    <tr>\n",
       "      <th>1997-01-05</th>\n",
       "      <td>NaN</td>\n",
       "      <td>1997-01-05</td>\n",
       "    </tr>\n",
       "    <tr>\n",
       "      <th>...</th>\n",
       "      <td>...</td>\n",
       "      <td>...</td>\n",
       "    </tr>\n",
       "    <tr>\n",
       "      <th>1998-12-28</th>\n",
       "      <td>1207.0</td>\n",
       "      <td>1998-12-28</td>\n",
       "    </tr>\n",
       "    <tr>\n",
       "      <th>1998-12-29</th>\n",
       "      <td>1209.9</td>\n",
       "      <td>1998-12-29</td>\n",
       "    </tr>\n",
       "    <tr>\n",
       "      <th>1998-12-30</th>\n",
       "      <td>1209.3</td>\n",
       "      <td>1998-12-30</td>\n",
       "    </tr>\n",
       "    <tr>\n",
       "      <th>1998-12-31</th>\n",
       "      <td>1207.8</td>\n",
       "      <td>1998-12-31</td>\n",
       "    </tr>\n",
       "    <tr>\n",
       "      <th>1999-01-01</th>\n",
       "      <td>NaN</td>\n",
       "      <td>1999-01-01</td>\n",
       "    </tr>\n",
       "  </tbody>\n",
       "</table>\n",
       "<p>731 rows × 2 columns</p>\n",
       "</div>"
      ],
      "text/plain": [
       "                환율          날짜\n",
       "날짜                            \n",
       "1997-01-01     NaN  1997-01-01\n",
       "1997-01-02     NaN  1997-01-02\n",
       "1997-01-03   844.6  1997-01-03\n",
       "1997-01-04   842.7  1997-01-04\n",
       "1997-01-05     NaN  1997-01-05\n",
       "...            ...         ...\n",
       "1998-12-28  1207.0  1998-12-28\n",
       "1998-12-29  1209.9  1998-12-29\n",
       "1998-12-30  1209.3  1998-12-30\n",
       "1998-12-31  1207.8  1998-12-31\n",
       "1999-01-01     NaN  1999-01-01\n",
       "\n",
       "[731 rows x 2 columns]"
      ]
     },
     "execution_count": 17,
     "metadata": {},
     "output_type": "execute_result"
    }
   ],
   "source": [
    "a"
   ]
  },
  {
   "cell_type": "code",
   "execution_count": 64,
   "id": "ee36f5b0-ce67-4c72-9331-103cc8331cc0",
   "metadata": {},
   "outputs": [
    {
     "data": {
      "image/png": "[encoded data removed]",
      "text/plain": [
       "<Figure size 2160x360 with 1 Axes>"
      ]
     },
     "metadata": {
      "needs_background": "light"
     },
     "output_type": "display_data"
    }
   ],
   "source": [
    "plt.xticks(np.arange(0,len(a.index) + 1,33))\n",
    "plt.plot(a['날짜'], a['환율'])\n",
    "plt.rcParams['figure.figsize'] = [30, 5]"
   ]
  },
  {
   "cell_type": "code",
   "execution_count": 55,
   "id": "72c6eade-867a-4d2a-966d-1a352320a1fc",
   "metadata": {},
   "outputs": [
    {
     "data": {
      "image/png": "[encoded data removed]",
      "text/plain": [
       "<Figure size 720x360 with 1 Axes>"
      ]
     },
     "metadata": {
      "needs_background": "light"
     },
     "output_type": "display_data"
    }
   ],
   "source": [
    "plt.xticks(np.arange(0,len(a.index) + 1,37))\n",
    "plt.plot(a['날짜'], a['환율'])\n",
    "plt.rcParams['figure.figsize'] = [10, 5]"
   ]
  },
  {
   "cell_type": "code",
   "execution_count": 30,
   "id": "453eec3c-2237-4561-b9f7-7d045db00ee0",
   "metadata": {},
   "outputs": [],
   "source": [
    "\n",
    "plt.rcParams['figure.figsize'] = [10, 5]\n",
    "plt.show()"
   ]
  },
  {
   "cell_type": "code",
   "execution_count": null,
   "id": "7091a7b3-7ab8-4b88-88b5-163510b815b7",
   "metadata": {},
   "outputs": [],
   "source": [
    "# df['월'] = df['날짜'].dt.year\n",
    "# df.groupby('Year')['Temp'].aggregate(['max','min','mean']).reset_index()\n"
   ]
  }
 ],
 "metadata": {
  "kernelspec": {
   "display_name": "Python 3 (ipykernel)",
   "language": "python",
   "name": "python3"
  },
  "language_info": {
   "codemirror_mode": {
    "name": "ipython",
    "version": 3
   },
   "file_extension": ".py",
   "mimetype": "text/x-python",
   "name": "python",
   "nbconvert_exporter": "python",
   "pygments_lexer": "ipython3",
   "version": "3.9.12"
  }
 },
 "nbformat": 4,
 "nbformat_minor": 5
}

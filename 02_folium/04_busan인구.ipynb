{
 "cells": [
  {
   "cell_type": "code",
   "execution_count": 1,
   "id": "05949b58-0c9b-4ea4-8bb5-0a1b2dbf08f9",
   "metadata": {},
   "outputs": [],
   "source": [
    "# 참고 사이트 https://jumin.mois.go.kr/"
   ]
  },
  {
   "cell_type": "code",
   "execution_count": 2,
   "id": "25d7f9cb-6cd3-4a50-9a1b-49a0f732a06f",
   "metadata": {},
   "outputs": [],
   "source": [
    "# pip install openpyxl"
   ]
  },
  {
   "cell_type": "code",
   "execution_count": 3,
   "id": "2bf01448-e83a-4284-b11f-d92d33ac979c",
   "metadata": {},
   "outputs": [],
   "source": [
    "import warnings\n",
    "warnings.filterwarnings('ignore')"
   ]
  },
  {
   "cell_type": "code",
   "execution_count": 4,
   "id": "9408581e-478a-4b8a-ac58-c6183f1b9d6a",
   "metadata": {},
   "outputs": [],
   "source": [
    "# 1. 주민등록인구 및 세대현황 파일을 데이터프레임으로 가져옴"
   ]
  },
  {
   "cell_type": "code",
   "execution_count": 5,
   "id": "74dc0347-6b0d-46f1-b9e3-96725e71628a",
   "metadata": {},
   "outputs": [],
   "source": [
    "import pandas as pd"
   ]
  },
  {
   "cell_type": "code",
   "execution_count": 6,
   "id": "3f275202-6d5c-4c12-89ba-f3a56eb81a06",
   "metadata": {
    "tags": []
   },
   "outputs": [
    {
     "data": {
      "text/html": [
       "<div>\n",
       "<style scoped>\n",
       "    .dataframe tbody tr th:only-of-type {\n",
       "        vertical-align: middle;\n",
       "    }\n",
       "\n",
       "    .dataframe tbody tr th {\n",
       "        vertical-align: top;\n",
       "    }\n",
       "\n",
       "    .dataframe thead th {\n",
       "        text-align: right;\n",
       "    }\n",
       "</style>\n",
       "<table border=\"1\" class=\"dataframe\">\n",
       "  <thead>\n",
       "    <tr style=\"text-align: right;\">\n",
       "      <th></th>\n",
       "      <th>행정구역</th>\n",
       "      <th>2022년08월_총인구수</th>\n",
       "      <th>2022년08월_세대수</th>\n",
       "      <th>2022년08월_세대당 인구</th>\n",
       "      <th>2022년08월_남자 인구수</th>\n",
       "      <th>2022년08월_여자 인구수</th>\n",
       "      <th>2022년08월_남여 비율</th>\n",
       "    </tr>\n",
       "  </thead>\n",
       "  <tbody>\n",
       "    <tr>\n",
       "      <th>0</th>\n",
       "      <td>서울특별시  (1100000000)</td>\n",
       "      <td>9,488,454</td>\n",
       "      <td>4,472,975</td>\n",
       "      <td>2.12</td>\n",
       "      <td>4,601,295</td>\n",
       "      <td>4,887,159</td>\n",
       "      <td>0.94</td>\n",
       "    </tr>\n",
       "    <tr>\n",
       "      <th>1</th>\n",
       "      <td>서울특별시 종로구 (1111000000)</td>\n",
       "      <td>143,499</td>\n",
       "      <td>73,866</td>\n",
       "      <td>1.94</td>\n",
       "      <td>69,408</td>\n",
       "      <td>74,091</td>\n",
       "      <td>0.94</td>\n",
       "    </tr>\n",
       "  </tbody>\n",
       "</table>\n",
       "</div>"
      ],
      "text/plain": [
       "                     행정구역 2022년08월_총인구수 2022년08월_세대수  2022년08월_세대당 인구  \\\n",
       "0     서울특별시  (1100000000)     9,488,454    4,472,975             2.12   \n",
       "1  서울특별시 종로구 (1111000000)       143,499       73,866             1.94   \n",
       "\n",
       "  2022년08월_남자 인구수 2022년08월_여자 인구수  2022년08월_남여 비율  \n",
       "0       4,601,295       4,887,159            0.94  \n",
       "1          69,408          74,091            0.94  "
      ]
     },
     "execution_count": 6,
     "metadata": {},
     "output_type": "execute_result"
    }
   ],
   "source": [
    "data = pd.read_csv('202208_202208_주민등록인구및세대현황_월간.csv',encoding='cp949')\n",
    "data.head(2)"
   ]
  },
  {
   "cell_type": "code",
   "execution_count": 7,
   "id": "b6a0be72-1945-45dd-a21e-b221e31a5321",
   "metadata": {
    "tags": []
   },
   "outputs": [
    {
     "data": {
      "text/html": [
       "<div>\n",
       "<style scoped>\n",
       "    .dataframe tbody tr th:only-of-type {\n",
       "        vertical-align: middle;\n",
       "    }\n",
       "\n",
       "    .dataframe tbody tr th {\n",
       "        vertical-align: top;\n",
       "    }\n",
       "\n",
       "    .dataframe thead th {\n",
       "        text-align: right;\n",
       "    }\n",
       "</style>\n",
       "<table border=\"1\" class=\"dataframe\">\n",
       "  <thead>\n",
       "    <tr style=\"text-align: right;\">\n",
       "      <th></th>\n",
       "      <th>행정기관코드</th>\n",
       "      <th>행정기관</th>\n",
       "      <th>총인구수</th>\n",
       "      <th>세대수</th>\n",
       "      <th>세대당 인구</th>\n",
       "      <th>남자 인구수</th>\n",
       "      <th>여자 인구수</th>\n",
       "      <th>남여 비율</th>\n",
       "    </tr>\n",
       "  </thead>\n",
       "  <tbody>\n",
       "    <tr>\n",
       "      <th>0</th>\n",
       "      <td>1100000000</td>\n",
       "      <td>서울특별시</td>\n",
       "      <td>9,488,454</td>\n",
       "      <td>4,472,975</td>\n",
       "      <td>2.12</td>\n",
       "      <td>4,601,295</td>\n",
       "      <td>4,887,159</td>\n",
       "      <td>0.94</td>\n",
       "    </tr>\n",
       "    <tr>\n",
       "      <th>1</th>\n",
       "      <td>1111000000</td>\n",
       "      <td>서울특별시 종로구</td>\n",
       "      <td>143,499</td>\n",
       "      <td>73,866</td>\n",
       "      <td>1.94</td>\n",
       "      <td>69,408</td>\n",
       "      <td>74,091</td>\n",
       "      <td>0.94</td>\n",
       "    </tr>\n",
       "  </tbody>\n",
       "</table>\n",
       "</div>"
      ],
      "text/plain": [
       "       행정기관코드        행정기관       총인구수        세대수  세대당 인구     남자 인구수     여자 인구수  \\\n",
       "0  1100000000     서울특별시    9,488,454  4,472,975    2.12  4,601,295  4,887,159   \n",
       "1  1111000000  서울특별시 종로구     143,499     73,866    1.94     69,408     74,091   \n",
       "\n",
       "   남여 비율  \n",
       "0   0.94  \n",
       "1   0.94  "
      ]
     },
     "execution_count": 7,
     "metadata": {},
     "output_type": "execute_result"
    }
   ],
   "source": [
    "data = pd.read_excel('202208_202208_주민등록인구및세대현황_월간.xlsx', header=2)\n",
    "data.head(2)"
   ]
  },
  {
   "cell_type": "code",
   "execution_count": 8,
   "id": "428a302c-3a6e-41cf-94e7-13693eedab20",
   "metadata": {},
   "outputs": [],
   "source": [
    "# 2. 컬럼의 이름을 행정기관코드, 행정구역, 총인구수, 세대수, 세대당인구, 남자. 여자, 남여비율로 변경"
   ]
  },
  {
   "cell_type": "code",
   "execution_count": 9,
   "id": "726571db-9e43-4fd5-8c9a-9c6bd3f7d5ce",
   "metadata": {},
   "outputs": [
    {
     "data": {
      "text/plain": [
       "Index(['행정기관코드', '행정기관', '총인구수', '세대수', '세대당 인구', '남자 인구수', '여자 인구수', '남여 비율'], dtype='object')"
      ]
     },
     "execution_count": 9,
     "metadata": {},
     "output_type": "execute_result"
    }
   ],
   "source": [
    "data.columns"
   ]
  },
  {
   "cell_type": "code",
   "execution_count": 10,
   "id": "685c9b23-2842-4c85-807b-7668b9327dfb",
   "metadata": {},
   "outputs": [],
   "source": [
    "data.columns = ['행정기관코드','행정구역', '총인구수', '세대수', '세대당 인구',\n",
    "       '남자', '여자', '남여비율']"
   ]
  },
  {
   "cell_type": "code",
   "execution_count": 11,
   "id": "d3d41c4e-1132-4e67-bb73-e4a6df861e69",
   "metadata": {},
   "outputs": [
    {
     "data": {
      "text/html": [
       "<div>\n",
       "<style scoped>\n",
       "    .dataframe tbody tr th:only-of-type {\n",
       "        vertical-align: middle;\n",
       "    }\n",
       "\n",
       "    .dataframe tbody tr th {\n",
       "        vertical-align: top;\n",
       "    }\n",
       "\n",
       "    .dataframe thead th {\n",
       "        text-align: right;\n",
       "    }\n",
       "</style>\n",
       "<table border=\"1\" class=\"dataframe\">\n",
       "  <thead>\n",
       "    <tr style=\"text-align: right;\">\n",
       "      <th></th>\n",
       "      <th>행정기관코드</th>\n",
       "      <th>행정구역</th>\n",
       "      <th>총인구수</th>\n",
       "      <th>세대수</th>\n",
       "      <th>세대당 인구</th>\n",
       "      <th>남자</th>\n",
       "      <th>여자</th>\n",
       "      <th>남여비율</th>\n",
       "    </tr>\n",
       "  </thead>\n",
       "  <tbody>\n",
       "    <tr>\n",
       "      <th>0</th>\n",
       "      <td>1100000000</td>\n",
       "      <td>서울특별시</td>\n",
       "      <td>9,488,454</td>\n",
       "      <td>4,472,975</td>\n",
       "      <td>2.12</td>\n",
       "      <td>4,601,295</td>\n",
       "      <td>4,887,159</td>\n",
       "      <td>0.94</td>\n",
       "    </tr>\n",
       "  </tbody>\n",
       "</table>\n",
       "</div>"
      ],
      "text/plain": [
       "       행정기관코드     행정구역       총인구수        세대수  세대당 인구         남자         여자  \\\n",
       "0  1100000000  서울특별시    9,488,454  4,472,975    2.12  4,601,295  4,887,159   \n",
       "\n",
       "   남여비율  \n",
       "0  0.94  "
      ]
     },
     "execution_count": 11,
     "metadata": {},
     "output_type": "execute_result"
    }
   ],
   "source": [
    "data.head(1)"
   ]
  },
  {
   "cell_type": "code",
   "execution_count": 12,
   "id": "090c3765-f65a-4a48-895e-bc162b7229f4",
   "metadata": {},
   "outputs": [],
   "source": [
    "# 3. 남녀비율 컬럼을 제거"
   ]
  },
  {
   "cell_type": "code",
   "execution_count": 13,
   "id": "e327cf6c-e410-419a-86d5-4de82dd70bd5",
   "metadata": {},
   "outputs": [
    {
     "data": {
      "text/html": [
       "<div>\n",
       "<style scoped>\n",
       "    .dataframe tbody tr th:only-of-type {\n",
       "        vertical-align: middle;\n",
       "    }\n",
       "\n",
       "    .dataframe tbody tr th {\n",
       "        vertical-align: top;\n",
       "    }\n",
       "\n",
       "    .dataframe thead th {\n",
       "        text-align: right;\n",
       "    }\n",
       "</style>\n",
       "<table border=\"1\" class=\"dataframe\">\n",
       "  <thead>\n",
       "    <tr style=\"text-align: right;\">\n",
       "      <th></th>\n",
       "      <th>행정기관코드</th>\n",
       "      <th>행정구역</th>\n",
       "      <th>총인구수</th>\n",
       "      <th>세대수</th>\n",
       "      <th>세대당 인구</th>\n",
       "      <th>남자</th>\n",
       "      <th>여자</th>\n",
       "    </tr>\n",
       "  </thead>\n",
       "  <tbody>\n",
       "    <tr>\n",
       "      <th>0</th>\n",
       "      <td>1100000000</td>\n",
       "      <td>서울특별시</td>\n",
       "      <td>9,488,454</td>\n",
       "      <td>4,472,975</td>\n",
       "      <td>2.12</td>\n",
       "      <td>4,601,295</td>\n",
       "      <td>4,887,159</td>\n",
       "    </tr>\n",
       "  </tbody>\n",
       "</table>\n",
       "</div>"
      ],
      "text/plain": [
       "       행정기관코드     행정구역       총인구수        세대수  세대당 인구         남자         여자\n",
       "0  1100000000  서울특별시    9,488,454  4,472,975    2.12  4,601,295  4,887,159"
      ]
     },
     "execution_count": 13,
     "metadata": {},
     "output_type": "execute_result"
    }
   ],
   "source": [
    "data.drop(columns=['남여비율'],inplace=True)\n",
    "data.head(1)"
   ]
  },
  {
   "cell_type": "code",
   "execution_count": 14,
   "id": "cb5e86db-db01-4ed0-982a-371201c4569a",
   "metadata": {},
   "outputs": [],
   "source": [
    "# 4. 행정구역 컬럼을 이용해 시,구,동 컬럼을 만들어 분리해 넣고 부산지역의 값만 가지고 와서 인덱스를 새로 부여\n",
    "# 동별 데이터(개별 데이터)만 남기고 대분류, 중분류에 해당하는 데이터는 삭제\n",
    "# 부산지역의 값만 가지고 와서 인덱스를 새로 부여"
   ]
  },
  {
   "cell_type": "code",
   "execution_count": 15,
   "id": "f7a86b91-f4b3-4208-9d01-67cd033e53fd",
   "metadata": {},
   "outputs": [],
   "source": [
    "# data.행정구역  데이터의 모양새 확인"
   ]
  },
  {
   "cell_type": "code",
   "execution_count": 16,
   "id": "7b8dbc19-0b81-4198-a273-9e895e4c6d4e",
   "metadata": {},
   "outputs": [],
   "source": [
    "data['시'] = data['행정구역'].str.split().str.get(0)  # 시 컬럼을 만들어 분리한 값 저장\n",
    "data['구'] = data['행정구역'].str.split().str.get(1)\n",
    "data['동'] = data['행정구역'].str.split().str.get(2)  # 부산은 3개로만 구성되어 있어서 3개로 분리(지역에 맞게)\n"
   ]
  },
  {
   "cell_type": "code",
   "execution_count": 17,
   "id": "1de309ef-4e2e-49c2-b0bc-9bc8bbffff74",
   "metadata": {},
   "outputs": [
    {
     "data": {
      "text/html": [
       "<div>\n",
       "<style scoped>\n",
       "    .dataframe tbody tr th:only-of-type {\n",
       "        vertical-align: middle;\n",
       "    }\n",
       "\n",
       "    .dataframe tbody tr th {\n",
       "        vertical-align: top;\n",
       "    }\n",
       "\n",
       "    .dataframe thead th {\n",
       "        text-align: right;\n",
       "    }\n",
       "</style>\n",
       "<table border=\"1\" class=\"dataframe\">\n",
       "  <thead>\n",
       "    <tr style=\"text-align: right;\">\n",
       "      <th></th>\n",
       "      <th>행정기관코드</th>\n",
       "      <th>행정구역</th>\n",
       "      <th>총인구수</th>\n",
       "      <th>세대수</th>\n",
       "      <th>세대당 인구</th>\n",
       "      <th>남자</th>\n",
       "      <th>여자</th>\n",
       "      <th>시</th>\n",
       "      <th>구</th>\n",
       "      <th>동</th>\n",
       "    </tr>\n",
       "  </thead>\n",
       "  <tbody>\n",
       "    <tr>\n",
       "      <th>0</th>\n",
       "      <td>1100000000</td>\n",
       "      <td>서울특별시</td>\n",
       "      <td>9,488,454</td>\n",
       "      <td>4,472,975</td>\n",
       "      <td>2.12</td>\n",
       "      <td>4,601,295</td>\n",
       "      <td>4,887,159</td>\n",
       "      <td>서울특별시</td>\n",
       "      <td>NaN</td>\n",
       "      <td>NaN</td>\n",
       "    </tr>\n",
       "    <tr>\n",
       "      <th>1</th>\n",
       "      <td>1111000000</td>\n",
       "      <td>서울특별시 종로구</td>\n",
       "      <td>143,499</td>\n",
       "      <td>73,866</td>\n",
       "      <td>1.94</td>\n",
       "      <td>69,408</td>\n",
       "      <td>74,091</td>\n",
       "      <td>서울특별시</td>\n",
       "      <td>종로구</td>\n",
       "      <td>NaN</td>\n",
       "    </tr>\n",
       "    <tr>\n",
       "      <th>2</th>\n",
       "      <td>1111051500</td>\n",
       "      <td>서울특별시 종로구 청운효자동</td>\n",
       "      <td>11,766</td>\n",
       "      <td>5,198</td>\n",
       "      <td>2.26</td>\n",
       "      <td>5,392</td>\n",
       "      <td>6,374</td>\n",
       "      <td>서울특별시</td>\n",
       "      <td>종로구</td>\n",
       "      <td>청운효자동</td>\n",
       "    </tr>\n",
       "  </tbody>\n",
       "</table>\n",
       "</div>"
      ],
      "text/plain": [
       "       행정기관코드             행정구역       총인구수        세대수  세대당 인구         남자  \\\n",
       "0  1100000000          서울특별시    9,488,454  4,472,975    2.12  4,601,295   \n",
       "1  1111000000       서울특별시 종로구     143,499     73,866    1.94     69,408   \n",
       "2  1111051500  서울특별시 종로구 청운효자동     11,766      5,198    2.26      5,392   \n",
       "\n",
       "          여자      시    구      동  \n",
       "0  4,887,159  서울특별시  NaN    NaN  \n",
       "1     74,091  서울특별시  종로구    NaN  \n",
       "2      6,374  서울특별시  종로구  청운효자동  "
      ]
     },
     "execution_count": 17,
     "metadata": {},
     "output_type": "execute_result"
    }
   ],
   "source": [
    "data.head(3)   # 중간, 전체 합계는 제외하기 "
   ]
  },
  {
   "cell_type": "code",
   "execution_count": 18,
   "id": "672b6e65-4e02-47d5-b51b-1c42462a897e",
   "metadata": {},
   "outputs": [],
   "source": [
    "data.dropna(inplace=True)  # nan 값이 하나라도 있으면 행단위로 제거 inplace=True 해서 원래 데이터에 반영(아니면 다시 data에 담아도됨)"
   ]
  },
  {
   "cell_type": "code",
   "execution_count": 19,
   "id": "f61aecf3-9650-4ea4-8b54-c2b8a0ce009d",
   "metadata": {
    "tags": []
   },
   "outputs": [
    {
     "data": {
      "text/html": [
       "<div>\n",
       "<style scoped>\n",
       "    .dataframe tbody tr th:only-of-type {\n",
       "        vertical-align: middle;\n",
       "    }\n",
       "\n",
       "    .dataframe tbody tr th {\n",
       "        vertical-align: top;\n",
       "    }\n",
       "\n",
       "    .dataframe thead th {\n",
       "        text-align: right;\n",
       "    }\n",
       "</style>\n",
       "<table border=\"1\" class=\"dataframe\">\n",
       "  <thead>\n",
       "    <tr style=\"text-align: right;\">\n",
       "      <th></th>\n",
       "      <th>행정기관코드</th>\n",
       "      <th>행정구역</th>\n",
       "      <th>총인구수</th>\n",
       "      <th>세대수</th>\n",
       "      <th>세대당 인구</th>\n",
       "      <th>남자</th>\n",
       "      <th>여자</th>\n",
       "      <th>시</th>\n",
       "      <th>구</th>\n",
       "      <th>동</th>\n",
       "    </tr>\n",
       "  </thead>\n",
       "  <tbody>\n",
       "    <tr>\n",
       "      <th>2</th>\n",
       "      <td>1111051500</td>\n",
       "      <td>서울특별시 종로구 청운효자동</td>\n",
       "      <td>11,766</td>\n",
       "      <td>5,198</td>\n",
       "      <td>2.26</td>\n",
       "      <td>5,392</td>\n",
       "      <td>6,374</td>\n",
       "      <td>서울특별시</td>\n",
       "      <td>종로구</td>\n",
       "      <td>청운효자동</td>\n",
       "    </tr>\n",
       "    <tr>\n",
       "      <th>3</th>\n",
       "      <td>1111053000</td>\n",
       "      <td>서울특별시 종로구 사직동</td>\n",
       "      <td>9,278</td>\n",
       "      <td>4,668</td>\n",
       "      <td>1.99</td>\n",
       "      <td>4,124</td>\n",
       "      <td>5,154</td>\n",
       "      <td>서울특별시</td>\n",
       "      <td>종로구</td>\n",
       "      <td>사직동</td>\n",
       "    </tr>\n",
       "    <tr>\n",
       "      <th>4</th>\n",
       "      <td>1111054000</td>\n",
       "      <td>서울특별시 종로구 삼청동</td>\n",
       "      <td>2,384</td>\n",
       "      <td>1,188</td>\n",
       "      <td>2.01</td>\n",
       "      <td>1,130</td>\n",
       "      <td>1,254</td>\n",
       "      <td>서울특별시</td>\n",
       "      <td>종로구</td>\n",
       "      <td>삼청동</td>\n",
       "    </tr>\n",
       "  </tbody>\n",
       "</table>\n",
       "</div>"
      ],
      "text/plain": [
       "       행정기관코드             행정구역    총인구수    세대수  세대당 인구     남자     여자      시  \\\n",
       "2  1111051500  서울특별시 종로구 청운효자동  11,766  5,198    2.26  5,392  6,374  서울특별시   \n",
       "3  1111053000    서울특별시 종로구 사직동   9,278  4,668    1.99  4,124  5,154  서울특별시   \n",
       "4  1111054000    서울특별시 종로구 삼청동   2,384  1,188    2.01  1,130  1,254  서울특별시   \n",
       "\n",
       "     구      동  \n",
       "2  종로구  청운효자동  \n",
       "3  종로구    사직동  \n",
       "4  종로구    삼청동  "
      ]
     },
     "execution_count": 19,
     "metadata": {},
     "output_type": "execute_result"
    }
   ],
   "source": [
    "data.head(3)"
   ]
  },
  {
   "cell_type": "code",
   "execution_count": 20,
   "id": "7b29c885-30a2-4e46-bbbf-1ff568afb0ad",
   "metadata": {},
   "outputs": [],
   "source": [
    "busan = data[data['시'] == '부산광역시']  # 시열이 부산광역시인 데이터만 가져와서 busan에 담음"
   ]
  },
  {
   "cell_type": "code",
   "execution_count": 21,
   "id": "3d98dd2f-da7e-4312-a7fa-5fe4f766335e",
   "metadata": {
    "tags": []
   },
   "outputs": [
    {
     "data": {
      "text/html": [
       "<div>\n",
       "<style scoped>\n",
       "    .dataframe tbody tr th:only-of-type {\n",
       "        vertical-align: middle;\n",
       "    }\n",
       "\n",
       "    .dataframe tbody tr th {\n",
       "        vertical-align: top;\n",
       "    }\n",
       "\n",
       "    .dataframe thead th {\n",
       "        text-align: right;\n",
       "    }\n",
       "</style>\n",
       "<table border=\"1\" class=\"dataframe\">\n",
       "  <thead>\n",
       "    <tr style=\"text-align: right;\">\n",
       "      <th></th>\n",
       "      <th>행정기관코드</th>\n",
       "      <th>행정구역</th>\n",
       "      <th>총인구수</th>\n",
       "      <th>세대수</th>\n",
       "      <th>세대당 인구</th>\n",
       "      <th>남자</th>\n",
       "      <th>여자</th>\n",
       "      <th>시</th>\n",
       "      <th>구</th>\n",
       "      <th>동</th>\n",
       "    </tr>\n",
       "  </thead>\n",
       "  <tbody>\n",
       "    <tr>\n",
       "      <th>0</th>\n",
       "      <td>2611051000</td>\n",
       "      <td>부산광역시 중구 중앙동</td>\n",
       "      <td>3,139</td>\n",
       "      <td>2,435</td>\n",
       "      <td>1.29</td>\n",
       "      <td>1,475</td>\n",
       "      <td>1,664</td>\n",
       "      <td>부산광역시</td>\n",
       "      <td>중구</td>\n",
       "      <td>중앙동</td>\n",
       "    </tr>\n",
       "    <tr>\n",
       "      <th>1</th>\n",
       "      <td>2611052000</td>\n",
       "      <td>부산광역시 중구 동광동</td>\n",
       "      <td>2,590</td>\n",
       "      <td>1,703</td>\n",
       "      <td>1.52</td>\n",
       "      <td>1,323</td>\n",
       "      <td>1,267</td>\n",
       "      <td>부산광역시</td>\n",
       "      <td>중구</td>\n",
       "      <td>동광동</td>\n",
       "    </tr>\n",
       "  </tbody>\n",
       "</table>\n",
       "</div>"
      ],
      "text/plain": [
       "       행정기관코드          행정구역   총인구수    세대수  세대당 인구     남자     여자      시   구  \\\n",
       "0  2611051000  부산광역시 중구 중앙동  3,139  2,435    1.29  1,475  1,664  부산광역시  중구   \n",
       "1  2611052000  부산광역시 중구 동광동  2,590  1,703    1.52  1,323  1,267  부산광역시  중구   \n",
       "\n",
       "     동  \n",
       "0  중앙동  \n",
       "1  동광동  "
      ]
     },
     "execution_count": 21,
     "metadata": {},
     "output_type": "execute_result"
    }
   ],
   "source": [
    "busan.reset_index(drop=True,inplace=True)  # 기존 인덱스 삭제\n",
    "busan.head(2)"
   ]
  },
  {
   "cell_type": "code",
   "execution_count": 22,
   "id": "3a9ca516-9aa4-46db-8548-81e90872bce2",
   "metadata": {},
   "outputs": [],
   "source": [
    "# 5. 총인구수, 남자, 여자 컬럼의 데이터 타입을 정수형으로 변경"
   ]
  },
  {
   "cell_type": "code",
   "execution_count": 23,
   "id": "176a751f-7a10-4d8a-8fe7-4966c12ebcaf",
   "metadata": {
    "tags": []
   },
   "outputs": [
    {
     "data": {
      "text/plain": [
       "2       11766\n",
       "3        9278\n",
       "4        2384\n",
       "5        9411\n",
       "6       17915\n",
       "        ...  \n",
       "3860    11253\n",
       "3861    15529\n",
       "3862    13837\n",
       "3863    12244\n",
       "3864     3910\n",
       "Name: 총인구수, Length: 3584, dtype: int32"
      ]
     },
     "execution_count": 23,
     "metadata": {},
     "output_type": "execute_result"
    }
   ],
   "source": [
    "# ',' 제거\n",
    "data.replace('[^\\w]','',regex = True, inplace=True)\n",
    "# busan['총인구수'] = busan['총인구수'].str.replace(',','').astype('int')\n",
    "# busan['여자'] = busan['여자'].str.replace(',','').astype('int')\n",
    "# busan['남자'] = busan['남자'].str.replace(',','').astype('int')\n",
    "# int형으로 변경\n",
    "data['총인구수'] = data['총인구수'].astype('int')\n",
    "data['남자'] = data['남자'].astype('int')\n",
    "data['여자'] = data['여자'].astype('int')\n",
    "# data.총인구수\n",
    "# data.남자\n",
    "# to_numeric ? \n",
    "data.총인구수"
   ]
  },
  {
   "cell_type": "code",
   "execution_count": 24,
   "id": "31ce133d-2e76-422e-b292-201fdea941a9",
   "metadata": {},
   "outputs": [],
   "source": [
    "# 6. 동별, 구별 부산 인구를 차트로 표시(인구순 5개동만)"
   ]
  },
  {
   "cell_type": "code",
   "execution_count": 25,
   "id": "912c4f25-98ab-4e93-bb31-b6eb81434985",
   "metadata": {
    "tags": []
   },
   "outputs": [],
   "source": [
    "# pip install matplotlib"
   ]
  },
  {
   "cell_type": "code",
   "execution_count": 26,
   "id": "946fefba-ecf9-4d7d-ab7a-6bfd4b4f2094",
   "metadata": {
    "tags": []
   },
   "outputs": [],
   "source": [
    "# pip install seaborn"
   ]
  },
  {
   "cell_type": "code",
   "execution_count": 27,
   "id": "8b1c7454-86d3-4824-b460-d6372d10292f",
   "metadata": {},
   "outputs": [],
   "source": [
    "import matplotlib.pyplot as plt\n",
    "import seaborn as sns"
   ]
  },
  {
   "cell_type": "code",
   "execution_count": 28,
   "id": "ca1cb793-ffbb-40a6-a7ed-888cf7fff1e8",
   "metadata": {},
   "outputs": [],
   "source": [
    "busan_gu=busan.groupby('구')['총인구수'].sum().sort_values(ascending=False).head(5) # 내림차순 정렬\n",
    "busan_gu=busan_gu.reset_index()\n",
    "# 구가 인덱스로 되어있음 -> 밑 행에서 x값으로 구를 넣기 위해서는 열로 지정되어 잇어야함\n",
    "# rest_index() 사용하면 인덱스를 새로 부여하고 기존의 인덱스는 새로운 열로 만들어줌"
   ]
  },
  {
   "cell_type": "code",
   "execution_count": 29,
   "id": "3036251f-d239-471a-adc7-9552b955a1df",
   "metadata": {
    "collapsed": true,
    "jupyter": {
     "outputs_hidden": true
    },
    "tags": []
   },
   "outputs": [
    {
     "ename": "TypeError",
     "evalue": "Neither the `x` nor `y` variable appears to be numeric.",
     "output_type": "error",
     "traceback": [
      "\u001b[1;31m---------------------------------------------------------------------------\u001b[0m",
      "\u001b[1;31mTypeError\u001b[0m                                 Traceback (most recent call last)",
      "Input \u001b[1;32mIn [29]\u001b[0m, in \u001b[0;36m<cell line: 1>\u001b[1;34m()\u001b[0m\n\u001b[1;32m----> 1\u001b[0m \u001b[43msns\u001b[49m\u001b[38;5;241;43m.\u001b[39;49m\u001b[43mbarplot\u001b[49m\u001b[43m(\u001b[49m\u001b[43mdata\u001b[49m\u001b[38;5;241;43m=\u001b[39;49m\u001b[43mbusan_gu\u001b[49m\u001b[43m,\u001b[49m\u001b[43m \u001b[49m\u001b[43mx\u001b[49m\u001b[38;5;241;43m=\u001b[39;49m\u001b[38;5;124;43m'\u001b[39;49m\u001b[38;5;124;43m구\u001b[39;49m\u001b[38;5;124;43m'\u001b[39;49m\u001b[43m,\u001b[49m\u001b[43m \u001b[49m\u001b[43my\u001b[49m\u001b[38;5;241;43m=\u001b[39;49m\u001b[38;5;124;43m'\u001b[39;49m\u001b[38;5;124;43m총인구수\u001b[39;49m\u001b[38;5;124;43m'\u001b[39;49m\u001b[43m)\u001b[49m\n",
      "File \u001b[1;32m~\\anaconda3\\envs\\go\\lib\\site-packages\\seaborn\\categorical.py:2753\u001b[0m, in \u001b[0;36mbarplot\u001b[1;34m(data, x, y, hue, order, hue_order, estimator, errorbar, n_boot, units, seed, orient, color, palette, saturation, width, errcolor, errwidth, capsize, dodge, ci, ax, **kwargs)\u001b[0m\n\u001b[0;32m   2750\u001b[0m \u001b[38;5;28;01mif\u001b[39;00m estimator \u001b[38;5;129;01mis\u001b[39;00m \u001b[38;5;28mlen\u001b[39m:\n\u001b[0;32m   2751\u001b[0m     estimator \u001b[38;5;241m=\u001b[39m \u001b[38;5;124m\"\u001b[39m\u001b[38;5;124msize\u001b[39m\u001b[38;5;124m\"\u001b[39m\n\u001b[1;32m-> 2753\u001b[0m plotter \u001b[38;5;241m=\u001b[39m \u001b[43m_BarPlotter\u001b[49m\u001b[43m(\u001b[49m\u001b[43mx\u001b[49m\u001b[43m,\u001b[49m\u001b[43m \u001b[49m\u001b[43my\u001b[49m\u001b[43m,\u001b[49m\u001b[43m \u001b[49m\u001b[43mhue\u001b[49m\u001b[43m,\u001b[49m\u001b[43m \u001b[49m\u001b[43mdata\u001b[49m\u001b[43m,\u001b[49m\u001b[43m \u001b[49m\u001b[43morder\u001b[49m\u001b[43m,\u001b[49m\u001b[43m \u001b[49m\u001b[43mhue_order\u001b[49m\u001b[43m,\u001b[49m\n\u001b[0;32m   2754\u001b[0m \u001b[43m                      \u001b[49m\u001b[43mestimator\u001b[49m\u001b[43m,\u001b[49m\u001b[43m \u001b[49m\u001b[43merrorbar\u001b[49m\u001b[43m,\u001b[49m\u001b[43m \u001b[49m\u001b[43mn_boot\u001b[49m\u001b[43m,\u001b[49m\u001b[43m \u001b[49m\u001b[43munits\u001b[49m\u001b[43m,\u001b[49m\u001b[43m \u001b[49m\u001b[43mseed\u001b[49m\u001b[43m,\u001b[49m\n\u001b[0;32m   2755\u001b[0m \u001b[43m                      \u001b[49m\u001b[43morient\u001b[49m\u001b[43m,\u001b[49m\u001b[43m \u001b[49m\u001b[43mcolor\u001b[49m\u001b[43m,\u001b[49m\u001b[43m \u001b[49m\u001b[43mpalette\u001b[49m\u001b[43m,\u001b[49m\u001b[43m \u001b[49m\u001b[43msaturation\u001b[49m\u001b[43m,\u001b[49m\n\u001b[0;32m   2756\u001b[0m \u001b[43m                      \u001b[49m\u001b[43mwidth\u001b[49m\u001b[43m,\u001b[49m\u001b[43m \u001b[49m\u001b[43merrcolor\u001b[49m\u001b[43m,\u001b[49m\u001b[43m \u001b[49m\u001b[43merrwidth\u001b[49m\u001b[43m,\u001b[49m\u001b[43m \u001b[49m\u001b[43mcapsize\u001b[49m\u001b[43m,\u001b[49m\u001b[43m \u001b[49m\u001b[43mdodge\u001b[49m\u001b[43m)\u001b[49m\n\u001b[0;32m   2758\u001b[0m \u001b[38;5;28;01mif\u001b[39;00m ax \u001b[38;5;129;01mis\u001b[39;00m \u001b[38;5;28;01mNone\u001b[39;00m:\n\u001b[0;32m   2759\u001b[0m     ax \u001b[38;5;241m=\u001b[39m plt\u001b[38;5;241m.\u001b[39mgca()\n",
      "File \u001b[1;32m~\\anaconda3\\envs\\go\\lib\\site-packages\\seaborn\\categorical.py:1530\u001b[0m, in \u001b[0;36m_BarPlotter.__init__\u001b[1;34m(self, x, y, hue, data, order, hue_order, estimator, errorbar, n_boot, units, seed, orient, color, palette, saturation, width, errcolor, errwidth, capsize, dodge)\u001b[0m\n\u001b[0;32m   1525\u001b[0m \u001b[38;5;28;01mdef\u001b[39;00m \u001b[38;5;21m__init__\u001b[39m(\u001b[38;5;28mself\u001b[39m, x, y, hue, data, order, hue_order,\n\u001b[0;32m   1526\u001b[0m              estimator, errorbar, n_boot, units, seed,\n\u001b[0;32m   1527\u001b[0m              orient, color, palette, saturation, width,\n\u001b[0;32m   1528\u001b[0m              errcolor, errwidth, capsize, dodge):\n\u001b[0;32m   1529\u001b[0m     \u001b[38;5;124;03m\"\"\"Initialize the plotter.\"\"\"\u001b[39;00m\n\u001b[1;32m-> 1530\u001b[0m     \u001b[38;5;28;43mself\u001b[39;49m\u001b[38;5;241;43m.\u001b[39;49m\u001b[43mestablish_variables\u001b[49m\u001b[43m(\u001b[49m\u001b[43mx\u001b[49m\u001b[43m,\u001b[49m\u001b[43m \u001b[49m\u001b[43my\u001b[49m\u001b[43m,\u001b[49m\u001b[43m \u001b[49m\u001b[43mhue\u001b[49m\u001b[43m,\u001b[49m\u001b[43m \u001b[49m\u001b[43mdata\u001b[49m\u001b[43m,\u001b[49m\u001b[43m \u001b[49m\u001b[43morient\u001b[49m\u001b[43m,\u001b[49m\n\u001b[0;32m   1531\u001b[0m \u001b[43m                             \u001b[49m\u001b[43morder\u001b[49m\u001b[43m,\u001b[49m\u001b[43m \u001b[49m\u001b[43mhue_order\u001b[49m\u001b[43m,\u001b[49m\u001b[43m \u001b[49m\u001b[43munits\u001b[49m\u001b[43m)\u001b[49m\n\u001b[0;32m   1532\u001b[0m     \u001b[38;5;28mself\u001b[39m\u001b[38;5;241m.\u001b[39mestablish_colors(color, palette, saturation)\n\u001b[0;32m   1533\u001b[0m     \u001b[38;5;28mself\u001b[39m\u001b[38;5;241m.\u001b[39mestimate_statistic(estimator, errorbar, n_boot, seed)\n",
      "File \u001b[1;32m~\\anaconda3\\envs\\go\\lib\\site-packages\\seaborn\\categorical.py:544\u001b[0m, in \u001b[0;36m_CategoricalPlotter.establish_variables\u001b[1;34m(self, x, y, hue, data, orient, order, hue_order, units)\u001b[0m\n\u001b[0;32m    541\u001b[0m         \u001b[38;5;28;01mraise\u001b[39;00m \u001b[38;5;167;01mValueError\u001b[39;00m(err)\n\u001b[0;32m    543\u001b[0m \u001b[38;5;66;03m# Figure out the plotting orientation\u001b[39;00m\n\u001b[1;32m--> 544\u001b[0m orient \u001b[38;5;241m=\u001b[39m \u001b[43minfer_orient\u001b[49m\u001b[43m(\u001b[49m\n\u001b[0;32m    545\u001b[0m \u001b[43m    \u001b[49m\u001b[43mx\u001b[49m\u001b[43m,\u001b[49m\u001b[43m \u001b[49m\u001b[43my\u001b[49m\u001b[43m,\u001b[49m\u001b[43m \u001b[49m\u001b[43morient\u001b[49m\u001b[43m,\u001b[49m\u001b[43m \u001b[49m\u001b[43mrequire_numeric\u001b[49m\u001b[38;5;241;43m=\u001b[39;49m\u001b[38;5;28;43mself\u001b[39;49m\u001b[38;5;241;43m.\u001b[39;49m\u001b[43mrequire_numeric\u001b[49m\n\u001b[0;32m    546\u001b[0m \u001b[43m\u001b[49m\u001b[43m)\u001b[49m\n\u001b[0;32m    548\u001b[0m \u001b[38;5;66;03m# Option 2a:\u001b[39;00m\n\u001b[0;32m    549\u001b[0m \u001b[38;5;66;03m# We are plotting a single set of data\u001b[39;00m\n\u001b[0;32m    550\u001b[0m \u001b[38;5;66;03m# ------------------------------------\u001b[39;00m\n\u001b[0;32m    551\u001b[0m \u001b[38;5;28;01mif\u001b[39;00m x \u001b[38;5;129;01mis\u001b[39;00m \u001b[38;5;28;01mNone\u001b[39;00m \u001b[38;5;129;01mor\u001b[39;00m y \u001b[38;5;129;01mis\u001b[39;00m \u001b[38;5;28;01mNone\u001b[39;00m:\n\u001b[0;32m    552\u001b[0m \n\u001b[0;32m    553\u001b[0m     \u001b[38;5;66;03m# Determine where the data are\u001b[39;00m\n",
      "File \u001b[1;32m~\\anaconda3\\envs\\go\\lib\\site-packages\\seaborn\\_oldcore.py:1632\u001b[0m, in \u001b[0;36minfer_orient\u001b[1;34m(x, y, orient, require_numeric)\u001b[0m\n\u001b[0;32m   1630\u001b[0m \u001b[38;5;28;01melif\u001b[39;00m require_numeric \u001b[38;5;129;01mand\u001b[39;00m \u001b[38;5;124m\"\u001b[39m\u001b[38;5;124mnumeric\u001b[39m\u001b[38;5;124m\"\u001b[39m \u001b[38;5;129;01mnot\u001b[39;00m \u001b[38;5;129;01min\u001b[39;00m (x_type, y_type):\n\u001b[0;32m   1631\u001b[0m     err \u001b[38;5;241m=\u001b[39m \u001b[38;5;124m\"\u001b[39m\u001b[38;5;124mNeither the `x` nor `y` variable appears to be numeric.\u001b[39m\u001b[38;5;124m\"\u001b[39m\n\u001b[1;32m-> 1632\u001b[0m     \u001b[38;5;28;01mraise\u001b[39;00m \u001b[38;5;167;01mTypeError\u001b[39;00m(err)\n\u001b[0;32m   1634\u001b[0m \u001b[38;5;28;01melse\u001b[39;00m:\n\u001b[0;32m   1635\u001b[0m     \u001b[38;5;28;01mreturn\u001b[39;00m \u001b[38;5;124m\"\u001b[39m\u001b[38;5;124mv\u001b[39m\u001b[38;5;124m\"\u001b[39m\n",
      "\u001b[1;31mTypeError\u001b[0m: Neither the `x` nor `y` variable appears to be numeric."
     ]
    }
   ],
   "source": [
    "sns.barplot(data=busan_gu, x='구', y='총인구수')"
   ]
  },
  {
   "cell_type": "code",
   "execution_count": null,
   "id": "81ecfd91-1a11-414f-9e96-cec954c8435f",
   "metadata": {},
   "outputs": [],
   "source": [
    "busan_dong=busan.sort_values(by='총인구수',ascending=False).head(5)"
   ]
  },
  {
   "cell_type": "code",
   "execution_count": null,
   "id": "b28eb317-d090-4c7f-98ec-c2b7cbf025e1",
   "metadata": {
    "tags": []
   },
   "outputs": [],
   "source": [
    "sns.barplot(data=busan_dong, x='동', y='총인구수')"
   ]
  },
  {
   "cell_type": "code",
   "execution_count": null,
   "id": "b203c14b-130e-44cc-b170-309b270aa320",
   "metadata": {},
   "outputs": [],
   "source": [
    "# 7. 동별, 구별 남여 인구를 차트로 표시(인구순 5개동만)"
   ]
  },
  {
   "cell_type": "code",
   "execution_count": null,
   "id": "cc05154c-aca8-48ad-96e3-ca134360ef4d",
   "metadata": {},
   "outputs": [],
   "source": []
  },
  {
   "cell_type": "code",
   "execution_count": null,
   "id": "e844ce87-ce02-4619-9568-76e23b88197e",
   "metadata": {},
   "outputs": [],
   "source": [
    "# 8. ChoropLeth, geojson을 이용하여 도별 인구수를 색상별로 지도에 표시"
   ]
  },
  {
   "cell_type": "code",
   "execution_count": null,
   "id": "ee497ef5-27b7-4631-a5c4-9fadd1a689aa",
   "metadata": {},
   "outputs": [],
   "source": [
    "# 부산의 위치값 하나 가져오기\n",
    "# 키값(읍면동) 이름이 맞지 않아 일부 지역은 까맣게 표시됨"
   ]
  },
  {
   "cell_type": "code",
   "execution_count": null,
   "id": "9f3d81f9-acdf-486e-b8b8-df3180aa2c9d",
   "metadata": {},
   "outputs": [],
   "source": [
    "for item in jsondata['features']:  \n",
    "    # jsondata에 있는 것 중에 features를 하나씩 가져와 item에 넣음(딕셔너리 하나)\n",
    "    #print(item['properties']['sidonm']\n",
    "    if item['properties']['sidonm'] == '제주특별자치도' :\n",
    "        #print(item['properties']['adm_nm'])\n",
    "        dong = item['properties']['adm_nm'].split()[-1].strip() \n",
    "        # strip으로 공백제거, split 된 것 중 가장 뒤의 값\n",
    "        item['id'] = dong\n",
    "        jsondata_pick.append(item)\n",
    "        \n",
    "        # 오른쪽 데이터에 '-제'가 있는건 하나밖에 없음 -> 그 부분만 수정할 수 있도록\n",
    "        # '거제'의 '-제'는 빼면 안됨 "
   ]
  },
  {
   "cell_type": "code",
   "execution_count": null,
   "id": "52adac4a-6bc4-47bf-8ce1-5cc0786f30b2",
   "metadata": {},
   "outputs": [],
   "source": [
    "import folium\n",
    "busan_loc = [35.2144654,128.9805666]\n",
    "m = folium.Map(busan_loc, zoom_start=11)\n",
    "folium.Choropleth(geo_data = jsondata_busan,\n",
    "                  data = busan,\n",
    "                  columns=['동','총인구수'],\n",
    "                  fill_color = 'YlGn',\n",
    "                  key_on = 'feature.id').add_to(m)\n",
    "m"
   ]
  },
  {
   "cell_type": "code",
   "execution_count": null,
   "id": "928cf04b-26c8-41e5-afd3-806e6394b37c",
   "metadata": {},
   "outputs": [],
   "source": [
    "json_dong = sorted(jsondata_dong)  # 파이썬에서 기본 제공하는 함수\n",
    "json_dong # ㄱㄴ 순으로 정리됨"
   ]
  },
  {
   "cell_type": "code",
   "execution_count": null,
   "id": "057210d5-bc21-4a83-b5bd-0edcc788b76b",
   "metadata": {},
   "outputs": [],
   "source": [
    "df_dong = sorted(busan['동'])\n",
    "df_dong"
   ]
  },
  {
   "cell_type": "code",
   "execution_count": 30,
   "id": "41ac296d-fad4-42d6-8562-e0fea6bcb408",
   "metadata": {
    "collapsed": true,
    "jupyter": {
     "outputs_hidden": true
    },
    "tags": []
   },
   "outputs": [
    {
     "ename": "NameError",
     "evalue": "name 'json_dong' is not defined",
     "output_type": "error",
     "traceback": [
      "\u001b[1;31m---------------------------------------------------------------------------\u001b[0m",
      "\u001b[1;31mNameError\u001b[0m                                 Traceback (most recent call last)",
      "Input \u001b[1;32mIn [30]\u001b[0m, in \u001b[0;36m<cell line: 1>\u001b[1;34m()\u001b[0m\n\u001b[1;32m----> 1\u001b[0m \u001b[38;5;28mlen\u001b[39m(\u001b[43mjson_dong\u001b[49m)\n\u001b[0;32m      2\u001b[0m \u001b[38;5;28mlen\u001b[39m(df_dong)\n",
      "\u001b[1;31mNameError\u001b[0m: name 'json_dong' is not defined"
     ]
    }
   ],
   "source": [
    "len(json_dong)\n",
    "len(df_dong)  # zip함수 쓰기 위해 길이가 맞는지 확인"
   ]
  },
  {
   "cell_type": "code",
   "execution_count": null,
   "id": "184a1ff0-baa1-4836-b585-132e390eb767",
   "metadata": {},
   "outputs": [],
   "source": [
    "for i, item in enumerate(zip(json_dong, df_dong)):\n",
    "    print(i,item)\n",
    "# zip은 json_dong, df_dong 둘 다 리스트임 첫번째 것끼리 묶어서 리턴시킴(길이가 맞아야함)\n",
    "# 행안부 데이터는 '-제'가 붙어있음 -> 둘을 맞춰야 함 -> '-제'를 빼는 것으로('-제'를 덧붙이면 이중으로 붙을수도)"
   ]
  }
 ],
 "metadata": {
  "kernelspec": {
   "display_name": "Python 3 (ipykernel)",
   "language": "python",
   "name": "python3"
  },
  "language_info": {
   "codemirror_mode": {
    "name": "ipython",
    "version": 3
   },
   "file_extension": ".py",
   "mimetype": "text/x-python",
   "name": "python",
   "nbconvert_exporter": "python",
   "pygments_lexer": "ipython3",
   "version": "3.9.12"
  }
 },
 "nbformat": 4,
 "nbformat_minor": 5
}

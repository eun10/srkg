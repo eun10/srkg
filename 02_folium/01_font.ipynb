{
 "cells": [
  {
   "cell_type": "code",
   "execution_count": 1,
   "id": "aca9ace6-55c3-4fda-9610-b110a39e40b9",
   "metadata": {},
   "outputs": [],
   "source": [
    "# 맑은고딕 : Malgun Gothic 설치 안해도 쓸 수 있는 것"
   ]
  },
  {
   "cell_type": "code",
   "execution_count": 2,
   "id": "98a734fb-11f7-4053-919a-aab5be048c2f",
   "metadata": {},
   "outputs": [],
   "source": [
    "import matplotlib.pyplot as plt\n",
    "import matplotlib\n",
    "import matplotlib.font_manager as fm\n",
    "import numpy as np"
   ]
  },
  {
   "cell_type": "code",
   "execution_count": 3,
   "id": "b8cd92f7-7c5e-492b-aa47-a223f6006a28",
   "metadata": {},
   "outputs": [],
   "source": [
    "import warnings\n",
    "warnings.filterwarnings('ignore')"
   ]
  },
  {
   "cell_type": "code",
   "execution_count": 4,
   "id": "1e07bafa-8dd1-4e71-a3c8-8ad9b0e28c2f",
   "metadata": {},
   "outputs": [
    {
     "data": {
      "text/plain": [
       "'C:\\\\Users\\\\user\\\\.matplotlib'"
      ]
     },
     "execution_count": 4,
     "metadata": {},
     "output_type": "execute_result"
    }
   ],
   "source": [
    "matplotlib.get_configdir()  ## 중요 폰트 설치 후 .matplotlib 파일 삭제하고 다시 함"
   ]
  },
  {
   "cell_type": "code",
   "execution_count": 5,
   "id": "7b1fef10-831c-446b-8663-abd62735b819",
   "metadata": {},
   "outputs": [
    {
     "data": {
      "text/plain": [
       "'C:\\\\Users\\\\user\\\\.matplotlib'"
      ]
     },
     "execution_count": 5,
     "metadata": {},
     "output_type": "execute_result"
    }
   ],
   "source": [
    "matplotlib.get_cachedir()  ## 중요"
   ]
  },
  {
   "cell_type": "code",
   "execution_count": 6,
   "id": "c8b1840d-b4e4-4bb5-b2f2-5981d7ce6549",
   "metadata": {},
   "outputs": [
    {
     "data": {
      "text/plain": [
       "array([  95,   75,  -20,  -62,  -42,  -73,  -24, -124,  -68,  -56,   -6,\n",
       "         -8,   67,  136,   98,   47,  145,   66,   -6,   -5,  -59, -111,\n",
       "        -28,  -81, -127, -208, -190, -268, -345, -308, -313, -325, -394,\n",
       "       -493, -514, -457, -466, -411, -331, -367, -274, -264, -205, -157,\n",
       "       -232, -144,  -75,   22,   20,  119])"
      ]
     },
     "execution_count": 6,
     "metadata": {},
     "output_type": "execute_result"
    }
   ],
   "source": [
    "data = np.random.randint(-100,100,50).cumsum() # -100~ 100까지 50개\n",
    "data  # 테스트용 데이터"
   ]
  },
  {
   "cell_type": "code",
   "execution_count": 7,
   "id": "66edc663-6184-4cde-9bb4-bbc543009d8f",
   "metadata": {},
   "outputs": [
    {
     "data": {
      "text/plain": [
       "Text(0.5, 0, '가격')"
      ]
     },
     "execution_count": 7,
     "metadata": {},
     "output_type": "execute_result"
    },
    {
     "data": {
      "image/png": "[encoded data removed]",
      "text/plain": [
       "<Figure size 432x288 with 1 Axes>"
      ]
     },
     "metadata": {
      "needs_background": "light"
     },
     "output_type": "display_data"
    }
   ],
   "source": [
    "plt.plot(range(50),data,'r')\n",
    "plt.title('시간별 가격 추이')\n",
    "plt.xlabel('시간')\n",
    "plt.xlabel('가격')  ## 한글 깨짐"
   ]
  },
  {
   "cell_type": "code",
   "execution_count": 8,
   "id": "8069ae0c-02e9-4742-9b77-75b8ba9d04a1",
   "metadata": {
    "tags": []
   },
   "outputs": [
    {
     "data": {
      "text/plain": [
       "['C:\\\\Windows\\\\Fonts\\\\ELEPHNT.TTF',\n",
       " 'C:\\\\Windows\\\\Fonts\\\\ELEPHNTI.TTF',\n",
       " 'C:\\\\Windows\\\\Fonts\\\\msjhl.ttc',\n",
       " 'C:\\\\Windows\\\\Fonts\\\\comici.ttf']"
      ]
     },
     "execution_count": 8,
     "metadata": {},
     "output_type": "execute_result"
    }
   ],
   "source": [
    "fm.findSystemFonts(fontext='ttf')[:4]"
   ]
  },
  {
   "cell_type": "code",
   "execution_count": 9,
   "id": "00a5faae-864c-41fb-96b7-f7c563f792d4",
   "metadata": {},
   "outputs": [
    {
     "data": {
      "text/plain": [
       "'C:\\\\Users\\\\user\\\\anaconda3\\\\envs\\\\go\\\\lib\\\\site-packages\\\\matplotlib\\\\mpl-data\\\\matplotlibrc'"
      ]
     },
     "execution_count": 9,
     "metadata": {},
     "output_type": "execute_result"
    }
   ],
   "source": [
    "matplotlib.matplotlib_fname()"
   ]
  },
  {
   "cell_type": "code",
   "execution_count": 10,
   "id": "262e2ac1-1471-4749-ac29-8bd5a609b9a4",
   "metadata": {},
   "outputs": [
    {
     "data": {
      "text/plain": [
       "[FontEntry(fname='C:\\\\Users\\\\user\\\\anaconda3\\\\envs\\\\go\\\\lib\\\\site-packages\\\\matplotlib\\\\mpl-data\\\\fonts\\\\ttf\\\\STIXGeneralBolIta.ttf', name='STIXGeneral', style='italic', variant='normal', weight=700, stretch='normal', size='scalable'),\n",
       " FontEntry(fname='C:\\\\Users\\\\user\\\\anaconda3\\\\envs\\\\go\\\\lib\\\\site-packages\\\\matplotlib\\\\mpl-data\\\\fonts\\\\ttf\\\\DejaVuSans-Bold.ttf', name='DejaVu Sans', style='normal', variant='normal', weight=700, stretch='normal', size='scalable')]"
      ]
     },
     "execution_count": 10,
     "metadata": {},
     "output_type": "execute_result"
    }
   ],
   "source": [
    "fm.fontManager.ttflist[:2]"
   ]
  },
  {
   "cell_type": "code",
   "execution_count": 11,
   "id": "5252004a-9e4b-4e7b-a9dc-b31d3371e1b2",
   "metadata": {
    "tags": []
   },
   "outputs": [
    {
     "data": {
      "text/plain": [
       "[('NanumSquare',\n",
       "  'C:\\\\Users\\\\user\\\\AppData\\\\Local\\\\Microsoft\\\\Windows\\\\Fonts\\\\NanumSquareEB.ttf'),\n",
       " ('NanumSquareRound',\n",
       "  'C:\\\\Users\\\\user\\\\AppData\\\\Local\\\\Microsoft\\\\Windows\\\\Fonts\\\\NanumSquareRoundEB.ttf'),\n",
       " ('NanumSquareRound',\n",
       "  'C:\\\\Users\\\\user\\\\AppData\\\\Local\\\\Microsoft\\\\Windows\\\\Fonts\\\\NanumSquareRoundB.ttf'),\n",
       " ('NanumSquare_ac',\n",
       "  'C:\\\\Users\\\\user\\\\AppData\\\\Local\\\\Microsoft\\\\Windows\\\\Fonts\\\\NanumSquare.ttf'),\n",
       " ('NanumGothic',\n",
       "  'C:\\\\Users\\\\user\\\\AppData\\\\Local\\\\Microsoft\\\\Windows\\\\Fonts\\\\NanumGothic.ttf'),\n",
       " ('NanumGothic',\n",
       "  'C:\\\\Users\\\\user\\\\AppData\\\\Local\\\\Microsoft\\\\Windows\\\\Fonts\\\\NanumGothicBold.ttf'),\n",
       " ('NanumSquareRound',\n",
       "  'C:\\\\Users\\\\user\\\\AppData\\\\Local\\\\Microsoft\\\\Windows\\\\Fonts\\\\NanumSquareRoundR.ttf'),\n",
       " ('NanumSquare',\n",
       "  'C:\\\\Users\\\\user\\\\AppData\\\\Local\\\\Microsoft\\\\Windows\\\\Fonts\\\\NanumSquareR.ttf'),\n",
       " ('NanumMyeongjo',\n",
       "  'C:\\\\Users\\\\user\\\\AppData\\\\Local\\\\Microsoft\\\\Windows\\\\Fonts\\\\NanumMyeongjo.ttf'),\n",
       " ('NanumGothic',\n",
       "  'C:\\\\Users\\\\user\\\\AppData\\\\Local\\\\Microsoft\\\\Windows\\\\Fonts\\\\NanumGothicExtraBold.ttf'),\n",
       " ('NanumMyeongjo',\n",
       "  'C:\\\\Users\\\\user\\\\AppData\\\\Local\\\\Microsoft\\\\Windows\\\\Fonts\\\\NanumMyeongjoExtraBold.ttf'),\n",
       " ('NanumSquare_ac',\n",
       "  'C:\\\\Users\\\\user\\\\AppData\\\\Local\\\\Microsoft\\\\Windows\\\\Fonts\\\\NanumSquare_acL.ttf'),\n",
       " ('NanumSquare',\n",
       "  'C:\\\\Users\\\\user\\\\AppData\\\\Local\\\\Microsoft\\\\Windows\\\\Fonts\\\\NanumSquareL.ttf'),\n",
       " ('NanumGothic',\n",
       "  'C:\\\\Users\\\\user\\\\AppData\\\\Local\\\\Microsoft\\\\Windows\\\\Fonts\\\\NanumGothicLight.ttf'),\n",
       " ('NanumMyeongjo',\n",
       "  'C:\\\\Users\\\\user\\\\AppData\\\\Local\\\\Microsoft\\\\Windows\\\\Fonts\\\\NanumMyeongjoBold.ttf'),\n",
       " ('NanumSquare_ac',\n",
       "  'C:\\\\Users\\\\user\\\\AppData\\\\Local\\\\Microsoft\\\\Windows\\\\Fonts\\\\NanumSquare_acR.ttf'),\n",
       " ('NanumSquare',\n",
       "  'C:\\\\Users\\\\user\\\\AppData\\\\Local\\\\Microsoft\\\\Windows\\\\Fonts\\\\NanumSquareB.ttf'),\n",
       " ('NanumSquareRound',\n",
       "  'C:\\\\Users\\\\user\\\\AppData\\\\Local\\\\Microsoft\\\\Windows\\\\Fonts\\\\NanumSquareRoundL.ttf'),\n",
       " ('NanumSquare_ac',\n",
       "  'C:\\\\Users\\\\user\\\\AppData\\\\Local\\\\Microsoft\\\\Windows\\\\Fonts\\\\NanumSquare_0.ttf')]"
      ]
     },
     "execution_count": 11,
     "metadata": {},
     "output_type": "execute_result"
    }
   ],
   "source": [
    "[(f.name,f.fname) for f in fm.fontManager.ttflist if 'Nanum' in f.name]  # 나눔 폰트 있는지 확인"
   ]
  },
  {
   "cell_type": "code",
   "execution_count": 12,
   "id": "86104cb5-6d6c-4170-a256-b69523bb0853",
   "metadata": {
    "tags": []
   },
   "outputs": [
    {
     "data": {
      "text/plain": [
       "Text(0, 0.5, '가격')"
      ]
     },
     "execution_count": 12,
     "metadata": {},
     "output_type": "execute_result"
    },
    {
     "data": {
      "image/png": "[encoded data removed]",
      "text/plain": [
       "<Figure size 432x288 with 1 Axes>"
      ]
     },
     "metadata": {
      "needs_background": "light"
     },
     "output_type": "display_data"
    }
   ],
   "source": [
    "path = 'C:\\\\Users\\\\user\\\\AppData\\\\Local\\\\Microsoft\\\\Windows\\\\Fonts\\\\NanumSquareRoundL.ttf'\n",
    "path1 = 'C:\\\\Users\\\\user\\\\AppData\\\\Local\\\\Microsoft\\\\Windows\\\\Fonts\\\\NanumSquareR.ttf'\n",
    "fontporp = fm.FontProperties(fname=path,size=17)\n",
    "fontporp1 = fm.FontProperties(fname=path1,size=17)  # 클래스 이름 (첫글자 대문자) 정보를 넣고 클래스 생성\n",
    "plt.plot(range(50),data,'r')\n",
    "plt.title('시간별 가격 추이',fontproperties=fontporp)  # 매개변수(파라메터값)에 개체의 주소값을 넘겨줌\n",
    "plt.xlabel('시간',fontproperties=fontporp)\n",
    "plt.ylabel('가격',fontproperties=fontporp) ## 한글이랑 같이 배포해서 깨질일이 없음"
   ]
  },
  {
   "cell_type": "code",
   "execution_count": 13,
   "id": "00ea026b-7c3f-4a09-89f5-29a30400b9f9",
   "metadata": {},
   "outputs": [],
   "source": [
    "# 2  폰트매니저에 등록이 되어있는 경우(글꼴이 인지된다는 전제)"
   ]
  },
  {
   "cell_type": "code",
   "execution_count": 14,
   "id": "5be9e5ef-ca45-4c8e-a0f8-ffc75e358370",
   "metadata": {},
   "outputs": [
    {
     "data": {
      "text/plain": [
       "['sans-serif']"
      ]
     },
     "execution_count": 14,
     "metadata": {},
     "output_type": "execute_result"
    }
   ],
   "source": [
    "plt.rcParams['font.family'] # ='폰트명' 으로 호출 가능(폰트매니저에서 인식되는 글꼴)"
   ]
  },
  {
   "cell_type": "code",
   "execution_count": 15,
   "id": "9b4d2f89-548f-4c6d-b50a-d19189481e95",
   "metadata": {},
   "outputs": [
    {
     "data": {
      "text/plain": [
       "10.0"
      ]
     },
     "execution_count": 15,
     "metadata": {},
     "output_type": "execute_result"
    }
   ],
   "source": [
    "plt.rcParams['font.size'] # = 숫자 로 사이즈 조절 가능"
   ]
  },
  {
   "cell_type": "code",
   "execution_count": 16,
   "id": "9f419272-1622-4dc0-84cb-52a5f98aa6d0",
   "metadata": {},
   "outputs": [],
   "source": [
    "plt.rcParams['font.family'] = 'NanumGothic'\n",
    "plt.rcParams['font.size'] = 15"
   ]
  },
  {
   "cell_type": "code",
   "execution_count": 17,
   "id": "8d9c171d-db31-4ca0-9537-8a2a3d53424f",
   "metadata": {},
   "outputs": [
    {
     "data": {
      "text/plain": [
       "Text(0, 0.5, '가격')"
      ]
     },
     "execution_count": 17,
     "metadata": {},
     "output_type": "execute_result"
    },
    {
     "data": {
      "image/png": "[encoded data removed]",
      "text/plain": [
       "<Figure size 432x288 with 1 Axes>"
      ]
     },
     "metadata": {
      "needs_background": "light"
     },
     "output_type": "display_data"
    }
   ],
   "source": [
    "plt.plot(range(50),data,'r')\n",
    "plt.title('시간별 가격 추이')\n",
    "plt.xlabel('시간')\n",
    "plt.ylabel('가격')"
   ]
  },
  {
   "cell_type": "code",
   "execution_count": 18,
   "id": "41a2e72b-894b-483f-b370-843ed2c406b7",
   "metadata": {},
   "outputs": [],
   "source": [
    "# 세션마다 "
   ]
  },
  {
   "cell_type": "code",
   "execution_count": 19,
   "id": "30547357-2b07-42b2-80b7-0eaa51f73076",
   "metadata": {},
   "outputs": [],
   "source": [
    "# 3. 설정파일"
   ]
  },
  {
   "cell_type": "code",
   "execution_count": 20,
   "id": "9ee24baf-034f-4789-ada9-40bf7354152e",
   "metadata": {},
   "outputs": [
    {
     "data": {
      "text/plain": [
       "'C:\\\\Users\\\\user\\\\anaconda3\\\\envs\\\\go\\\\lib\\\\site-packages\\\\matplotlib\\\\mpl-data\\\\matplotlibrc'"
      ]
     },
     "execution_count": 20,
     "metadata": {},
     "output_type": "execute_result"
    }
   ],
   "source": [
    "matplotlib.matplotlib_fname()"
   ]
  },
  {
   "cell_type": "code",
   "execution_count": 21,
   "id": "293fd96e-fa11-4f59-8bb0-aee81ee5f8c4",
   "metadata": {},
   "outputs": [],
   "source": [
    "matplotlib.rcParams['axes.unicode_minus']=False # 마이너스 기호 깨짐 방지"
   ]
  },
  {
   "cell_type": "code",
   "execution_count": 22,
   "id": "db2d01c1-4138-4bb6-88c9-ace663fcda8b",
   "metadata": {},
   "outputs": [
    {
     "data": {
      "text/plain": [
       "Text(0, 0.5, '가격')"
      ]
     },
     "execution_count": 22,
     "metadata": {},
     "output_type": "execute_result"
    },
    {
     "data": {
      "image/png": "[encoded data removed]",
      "text/plain": [
       "<Figure size 432x288 with 1 Axes>"
      ]
     },
     "metadata": {
      "needs_background": "light"
     },
     "output_type": "display_data"
    }
   ],
   "source": [
    "plt.plot(range(50),data,'r')\n",
    "plt.title('시간별 가격 추이')\n",
    "plt.xlabel('시간')\n",
    "plt.ylabel('가격')"
   ]
  }
 ],
 "metadata": {
  "kernelspec": {
   "display_name": "Python 3 (ipykernel)",
   "language": "python",
   "name": "python3"
  },
  "language_info": {
   "codemirror_mode": {
    "name": "ipython",
    "version": 3
   },
   "file_extension": ".py",
   "mimetype": "text/x-python",
   "name": "python",
   "nbconvert_exporter": "python",
   "pygments_lexer": "ipython3",
   "version": "3.9.12"
  }
 },
 "nbformat": 4,
 "nbformat_minor": 5
}

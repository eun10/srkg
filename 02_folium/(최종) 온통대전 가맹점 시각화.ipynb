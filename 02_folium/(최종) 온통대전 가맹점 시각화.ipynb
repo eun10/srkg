{
 "cells": [
  {
   "cell_type": "code",
   "execution_count": 1,
   "id": "3fcf5cff-4de2-4cc3-a996-ce89cee025a3",
   "metadata": {},
   "outputs": [
    {
     "name": "stdout",
     "output_type": "stream",
     "text": [
      "Requirement already satisfied: plotly in c:\\users\\user\\anaconda3\\envs\\go\\lib\\site-packages (5.10.0)\n",
      "Requirement already satisfied: tenacity>=6.2.0 in c:\\users\\user\\anaconda3\\envs\\go\\lib\\site-packages (from plotly) (8.1.0)\n"
     ]
    }
   ],
   "source": [
    "!pip install plotly"
   ]
  },
  {
   "cell_type": "code",
   "execution_count": 1,
   "id": "b47eed34-301e-44d5-9121-0731160ff9fc",
   "metadata": {},
   "outputs": [
    {
     "ename": "NameError",
     "evalue": "name 'find_coord_kakao' is not defined",
     "output_type": "error",
     "traceback": [
      "\u001b[1;31m---------------------------------------------------------------------------\u001b[0m",
      "\u001b[1;31mNameError\u001b[0m                                 Traceback (most recent call last)",
      "Input \u001b[1;32mIn [1]\u001b[0m, in \u001b[0;36m<cell line: 46>\u001b[1;34m()\u001b[0m\n\u001b[0;32m     44\u001b[0m \u001b[38;5;66;03m# 구, 순번, index 지움\u001b[39;00m\n\u001b[0;32m     46\u001b[0m \u001b[38;5;28;01mfor\u001b[39;00m i \u001b[38;5;129;01min\u001b[39;00m data\u001b[38;5;241m.\u001b[39mindex:\n\u001b[1;32m---> 47\u001b[0m     data\u001b[38;5;241m.\u001b[39mloc[i, \u001b[38;5;124m\"\u001b[39m\u001b[38;5;124m경도\u001b[39m\u001b[38;5;124m\"\u001b[39m] \u001b[38;5;241m=\u001b[39m \u001b[43mfind_coord_kakao\u001b[49m(data\u001b[38;5;241m.\u001b[39mloc[i, \u001b[38;5;124m\"\u001b[39m\u001b[38;5;124m주소\u001b[39m\u001b[38;5;124m\"\u001b[39m])[\u001b[38;5;241m0\u001b[39m]\n\u001b[0;32m     48\u001b[0m     data\u001b[38;5;241m.\u001b[39mloc[i, \u001b[38;5;124m\"\u001b[39m\u001b[38;5;124m위도\u001b[39m\u001b[38;5;124m\"\u001b[39m] \u001b[38;5;241m=\u001b[39m find_coord_kakao(data\u001b[38;5;241m.\u001b[39mloc[i, \u001b[38;5;124m\"\u001b[39m\u001b[38;5;124m주소\u001b[39m\u001b[38;5;124m\"\u001b[39m])[\u001b[38;5;241m1\u001b[39m]\n\u001b[0;32m     49\u001b[0m     \u001b[38;5;28mprint\u001b[39m(i)\n",
      "\u001b[1;31mNameError\u001b[0m: name 'find_coord_kakao' is not defined"
     ]
    }
   ],
   "source": [
    "import pandas as pd\n",
    "import folium\n",
    "from folium.plugins import MarkerCluster\n",
    "import re\n",
    "from geopy.geocoders import Nominatim\n",
    "import json\n",
    "import requests\n",
    "\n",
    "\n",
    "REST_API_KEY = \"24e7619a54b8e426d7f7e06a44973320\"\n",
    "data = pd.read_csv(\"대전광역시_온통대전 신청 가맹점 목록_20211130.csv\",encoding = \"EUC-KR\")\n",
    "jsonfile = open(\"동구.json\", 'r', encoding = \"UTF-8\").read()\n",
    "jsondata = json.loads(jsonfile)\n",
    "\n",
    "def find_coord_kakao(address):\n",
    "    def find_coord_geo(address):\n",
    "        try:\n",
    "            geolocoder = Nominatim(user_agent=\"South Korea\", timeout=None)\n",
    "            geo = geolocoder.geocode(address)\n",
    "\n",
    "            return geo.longitude, geo.latitude\n",
    "        except:\n",
    "            return 0, 0\n",
    "    try:\n",
    "        url = \"https://dapi.kakao.com/v2/local/search/address.json?query={address}\".format(address = address)\n",
    "        headers = {\"Authorization\": f\"KakaoAK {REST_API_KEY}\"}\n",
    "        result = json.loads(str(requests.get(url, headers=headers).text))\n",
    "        coord = result[\"documents\"][0][\"address\"]\n",
    "        return float(coord[\"x\"]), float(coord[\"y\"])\n",
    "    except:\n",
    "        return find_coord_geo(address)\n",
    "    # 카카오 api로 좌표를 찾고 없으면 geolocoder로 찾고 그래도 안되면 0,0 반환(경도-위도순)\n",
    "    # 온통대전에서 동구인 것만 찾아 data에 넣음\n",
    "\n",
    "data = data[data['구'] == '동구']\n",
    "data[\"경도\"] = \"\"\n",
    "data[\"위도\"] = \"\"\n",
    "# 경도 위도를 \n",
    "\n",
    "data['주소'] = data['주소'].str.split(',').str.get(0)\n",
    "data['주소'] = data['주소'].str.split('(').str.get(0)\n",
    "data.reset_index(inplace = True)  ## 인덱스 리셋\n",
    "data = data.drop([\"구\", \"순번\", \"index\"], axis = \"columns\")\n",
    "# 구, 순번, index 지움\n",
    "\n",
    "for i in data.index:\n",
    "    data.loc[i, \"경도\"] = find_coord_kakao(data.loc[i, \"주소\"])[0]\n",
    "    data.loc[i, \"위도\"] = find_coord_kakao(data.loc[i, \"주소\"])[1]\n",
    "    print(i)\n",
    "data = data.drop(data[data[\"경도\"] == 0].index)\n",
    "\n",
    "# 입력받은 도로명 주소를 좌표로 변환해서 그를 중심좌표로 맵을 생성\n",
    "home_address = input(\"도로명 주소를 입력하세요\")\n",
    "home_coord = find_coord_kakao(home_address)\n",
    "\n",
    "# foium은 위도 경도 순으로 받아서 \n",
    "m = folium.Map(location = [home_coord[1], home_coord[0]], zoom_start = 11)\n",
    "\n",
    "# cluster를 모을 것을 만듦(마커들의 집합을 만듦)\n",
    "marker_cluster = MarkerCluster().add_to(m)\n",
    "\n",
    "\n",
    "# 마커 클러스트라는 집합 안에 좌표로 찍은 마커를 넣음\n",
    "for i in data.index:\n",
    "  folium.Marker(location = [data.loc[i, \"위도\"], data.loc[i, \"경도\"]], popup = data.loc[i, \"가맹점\"], icon = folium.Icon(color = \"blue\", icon = \"star\"),\n",
    "  ).add_to(marker_cluster)\n",
    "\n",
    "# 동을 기준으로 그룹화하여 가맹점 수를 카운트\n",
    "data = pd.DataFrame(data.groupby(\"동\")[\"가맹점\"].count())\n",
    "\n",
    "# 인덱스 리셋(데이터프레임을 갱신할 때 마다 해주면 좋다) 그래야 loc 쓸 때 편함\n",
    "data.reset_index(inplace = True)\n",
    "\n",
    "# 열 이름을 EMD_NM로 바꿈\n",
    "data = data.rename(columns = {\"동\" : \"EMD_NM\"})\n",
    "\n",
    "# 가맹점수를 일반 int형으로 바꾸는 과정\n",
    "for i in data.index:\n",
    "    data.loc[i, \"가맹점\"] = str(data.loc[i, \"가맹점\"])\n",
    "\n",
    "for i in data.index:\n",
    "    data.loc[i, \"가맹점\"] = int(data.loc[i, \"가맹점\"])\n",
    "\n",
    "# 폴리움 \n",
    "folium.Choropleth(geo_data = jsondata,\n",
    "                  data = data,\n",
    "                  columns = [\"EMD_NM\", \"가맹점\"],\n",
    "                  fill_color='YlGn',\n",
    "                  key_on = 'feature.properties.EMD_NM').add_to(m)  # columns = [\"EMD_NM\" <-와 key_on = 'feature.properties.EMD_NM' <-의 타입이 맞아양 함\n",
    "# Choropleth 왼쪽 인자들은 필수로 있어야 함(기본 형식) \n",
    "m.save(\"qwer.html\")  # 저장해서 웹브라우저로 읽기"
   ]
  }
 ],
 "metadata": {
  "kernelspec": {
   "display_name": "Python 3 (ipykernel)",
   "language": "python",
   "name": "python3"
  },
  "language_info": {
   "codemirror_mode": {
    "name": "ipython",
    "version": 3
   },
   "file_extension": ".py",
   "mimetype": "text/x-python",
   "name": "python",
   "nbconvert_exporter": "python",
   "pygments_lexer": "ipython3",
   "version": "3.9.12"
  }
 },
 "nbformat": 4,
 "nbformat_minor": 5
}

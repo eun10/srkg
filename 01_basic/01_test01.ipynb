{
 "cells": [
  {
   "cell_type": "code",
   "execution_count": null,
   "id": "30239ffc-b648-420e-92d0-205ac6829da4",
   "metadata": {},
   "outputs": [],
   "source": [
    "심선조 강사님\n",
    "shimseonjo@gmail.com"
   ]
  },
  {
   "cell_type": "markdown",
   "id": "eab1c2f8-06a4-4409-b3cf-bf067baea181",
   "metadata": {},
   "source": [
    "# 마크다운 설명"
   ]
  },
  {
   "cell_type": "code",
   "execution_count": 3,
   "id": "5153d896-3c85-4640-92fd-00b7f4a12956",
   "metadata": {},
   "outputs": [
    {
     "ename": "SyntaxError",
     "evalue": "invalid syntax (1385664984.py, line 1)",
     "output_type": "error",
     "traceback": [
      "\u001b[1;36m  Input \u001b[1;32mIn [3]\u001b[1;36m\u001b[0m\n\u001b[1;33m    ```python\u001b[0m\n\u001b[1;37m    ^\u001b[0m\n\u001b[1;31mSyntaxError\u001b[0m\u001b[1;31m:\u001b[0m invalid syntax\n"
     ]
    }
   ],
   "source": [
    "\n",
    "```python\n",
    "s = \"Python syntax highlighting\"\n",
    "print s\n",
    "````"
   ]
  },
  {
   "cell_type": "markdown",
   "id": "d3629ac4-f38a-4128-9a7a-5ae9dfce6a39",
   "metadata": {},
   "source": [
    "[NAVER](https://www.naver.com/ \"링크 설명(title)을 작성하세요.\")"
   ]
  },
  {
   "cell_type": "code",
   "execution_count": 2,
   "id": "a5bcacef-d9da-41e2-bc6f-8f4d9eb7a0eb",
   "metadata": {},
   "outputs": [
    {
     "name": "stderr",
     "output_type": "stream",
     "text": [
      "'[DEEP][logo]'은(는) 내부 또는 외부 명령, 실행할 수 있는 프로그램, 또는\n",
      "배치 파일이 아닙니다.\n"
     ]
    }
   ],
   "source": [
    "(‪C:\\Users\\user\\Documents\\카카오톡 받은 파일\\KakaoTalk_20220916_035803041_18.jpg)\n",
    "![DEEP][logo]()\n"
   ]
  },
  {
   "cell_type": "markdown",
   "id": "82a67846-d167-4ee5-93dd-875af4817ad2",
   "metadata": {},
   "source": [
    "1. 마크다운 기호\n",
    "\n",
    "- esc 명령모드 enter 편집모드\n",
    "- 셀 나누기: 나누고자 하는 곳에 커서를 두고 ctrl shift -\n",
    "- 아래 셀과 병합: 명령모드에서 shift m\n",
    "셀 추가 : 명령모드에서 a(위쪽) b(아래쪽)\n",
    "- 셀 복사 : 명령모드에서 c\n",
    "- 셀 잘라내기 : 명령모드에서 x\n",
    "- 아래에 셀 붙여넣기 : 명령모드에서 v\n",
    "- 셀 삭제 : d + d"
   ]
  },
  {
   "cell_type": "code",
   "execution_count": null,
   "id": "a623d568-c201-4610-91fc-c931df04288e",
   "metadata": {},
   "outputs": [],
   "source": [
    "print('hi')\n",
    "print('hello')"
   ]
  }
 ],
 "metadata": {
  "kernelspec": {
   "display_name": "Python 3 (ipykernel)",
   "language": "python",
   "name": "python3"
  },
  "language_info": {
   "codemirror_mode": {
    "name": "ipython",
    "version": 3
   },
   "file_extension": ".py",
   "mimetype": "text/x-python",
   "name": "python",
   "nbconvert_exporter": "python",
   "pygments_lexer": "ipython3",
   "version": "3.9.12"
  }
 },
 "nbformat": 4,
 "nbformat_minor": 5
}

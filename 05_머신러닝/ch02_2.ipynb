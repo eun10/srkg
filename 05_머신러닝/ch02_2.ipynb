{
 "cells": [
  {
   "cell_type": "code",
   "execution_count": 1,
   "id": "cd2b3565-0be0-4261-bda7-05cc935e9bc5",
   "metadata": {},
   "outputs": [],
   "source": [
    "from sklearn.datasets import load_iris\n",
    "from sklearn.tree import DecisionTreeClassifier\n",
    "from sklearn.metrics import accuracy_score\n",
    "from sklearn.model_selection import KFold,StratifiedKFold\n",
    "import numpy as np"
   ]
  },
  {
   "cell_type": "code",
   "execution_count": 2,
   "id": "96b8a520-089d-4b81-9156-47544be7346a",
   "metadata": {},
   "outputs": [],
   "source": [
    "iris = load_iris()"
   ]
  },
  {
   "cell_type": "code",
   "execution_count": 3,
   "id": "0ac047f4-fa43-40e9-a643-90347fdabd72",
   "metadata": {},
   "outputs": [],
   "source": [
    "dt_clf = DecisionTreeClassifier(random_state=156)"
   ]
  },
  {
   "cell_type": "code",
   "execution_count": 4,
   "id": "c4a4e9e0-9ea4-426c-9963-75b4c67c1224",
   "metadata": {
    "collapsed": true,
    "jupyter": {
     "outputs_hidden": true
    },
    "tags": []
   },
   "outputs": [
    {
     "name": "stdout",
     "output_type": "stream",
     "text": [
      "1교차검증\n",
      "학습데이터크기 : (120, 4) 검증데이터크기 : (30, 4), 정확도 : 0.9666666666666667\n",
      "학습데이터크기 : [0 0 0 0 0 0 0 0 0 0 0 0 0 0 0 0 0 0 0 0 0 0 0 0 0 0 0 0 0 0 0 0 0 0 0 0 0\n",
      " 0 0 0 1 1 1 1 1 1 1 1 1 1 1 1 1 1 1 1 1 1 1 1 1 1 1 1 1 1 1 1 1 1 1 1 1 1\n",
      " 1 1 2 2 2 2 2 2 2 2 2 2 2 2 2 2 2 2 2 2 2 2 2 2 2 2 2 2 2 2 2 2 2 2 2 2 2\n",
      " 2 2 2 2 2 2 2 2 2]\n",
      "검증데티어 인덱스:[0 0 0 0 0 0 0 0 0 0 1 1 1 1 1 1 1 1 1 1 1 1 1 1 2 2 2 2 2 2]\n",
      "2교차검증\n",
      "학습데이터크기 : (120, 4) 검증데이터크기 : (30, 4), 정확도 : 0.9333333333333333\n",
      "학습데이터크기 : [0 0 0 0 0 0 0 0 0 0 0 0 0 0 0 0 0 0 0 0 0 0 0 0 0 0 0 0 0 0 0 0 0 0 0 0 0\n",
      " 0 0 0 0 0 1 1 1 1 1 1 1 1 1 1 1 1 1 1 1 1 1 1 1 1 1 1 1 1 1 1 1 1 1 1 1 1\n",
      " 1 1 1 1 1 1 2 2 2 2 2 2 2 2 2 2 2 2 2 2 2 2 2 2 2 2 2 2 2 2 2 2 2 2 2 2 2\n",
      " 2 2 2 2 2 2 2 2 2]\n",
      "검증데티어 인덱스:[0 0 0 0 0 0 0 0 1 1 1 1 1 1 1 1 1 1 1 1 2 2 2 2 2 2 2 2 2 2]\n",
      "3교차검증\n",
      "학습데이터크기 : (120, 4) 검증데이터크기 : (30, 4), 정확도 : 0.9333333333333333\n",
      "학습데이터크기 : [0 0 0 0 0 0 0 0 0 0 0 0 0 0 0 0 0 0 0 0 0 0 0 0 0 0 0 0 0 0 0 0 0 0 0 0 0\n",
      " 0 0 1 1 1 1 1 1 1 1 1 1 1 1 1 1 1 1 1 1 1 1 1 1 1 1 1 1 1 1 1 1 1 1 1 1 1\n",
      " 1 1 1 1 1 1 1 2 2 2 2 2 2 2 2 2 2 2 2 2 2 2 2 2 2 2 2 2 2 2 2 2 2 2 2 2 2\n",
      " 2 2 2 2 2 2 2 2 2]\n",
      "검증데티어 인덱스:[0 0 0 0 0 0 0 0 0 0 0 1 1 1 1 1 1 1 1 2 2 2 2 2 2 2 2 2 2 2]\n",
      "4교차검증\n",
      "학습데이터크기 : (120, 4) 검증데이터크기 : (30, 4), 정확도 : 0.9333333333333333\n",
      "학습데이터크기 : [0 0 0 0 0 0 0 0 0 0 0 0 0 0 0 0 0 0 0 0 0 0 0 0 0 0 0 0 0 0 0 0 0 0 0 0 0\n",
      " 0 0 1 1 1 1 1 1 1 1 1 1 1 1 1 1 1 1 1 1 1 1 1 1 1 1 1 1 1 1 1 1 1 1 1 1 1\n",
      " 1 1 1 1 1 1 2 2 2 2 2 2 2 2 2 2 2 2 2 2 2 2 2 2 2 2 2 2 2 2 2 2 2 2 2 2 2\n",
      " 2 2 2 2 2 2 2 2 2]\n",
      "검증데티어 인덱스:[0 0 0 0 0 0 0 0 0 0 0 1 1 1 1 1 1 1 1 1 2 2 2 2 2 2 2 2 2 2]\n",
      "5교차검증\n",
      "학습데이터크기 : (120, 4) 검증데이터크기 : (30, 4), 정확도 : 0.9666666666666667\n",
      "학습데이터크기 : [0 0 0 0 0 0 0 0 0 0 0 0 0 0 0 0 0 0 0 0 0 0 0 0 0 0 0 0 0 0 0 0 0 0 0 0 0\n",
      " 0 0 0 1 1 1 1 1 1 1 1 1 1 1 1 1 1 1 1 1 1 1 1 1 1 1 1 1 1 1 1 1 1 1 1 1 1\n",
      " 1 1 1 1 1 1 1 1 1 2 2 2 2 2 2 2 2 2 2 2 2 2 2 2 2 2 2 2 2 2 2 2 2 2 2 2 2\n",
      " 2 2 2 2 2 2 2 2 2]\n",
      "검증데티어 인덱스:[0 0 0 0 0 0 0 0 0 0 1 1 1 1 1 1 1 2 2 2 2 2 2 2 2 2 2 2 2 2]\n",
      "평균정확도 :  0.9466666666666667\n"
     ]
    }
   ],
   "source": [
    "kfold = KFold(n_splits=5,shuffle=True)\n",
    "cv_accuracy=[]\n",
    "n_iter = 0\n",
    "for train_index, test_index in kfold.split(iris.data): # 데이터를 나누어라 \n",
    "    # print(train_index)\n",
    "    # print(test_index)\n",
    "    # 데이터 나누기\n",
    "    X_train,X_test = iris.data[train_index],iris.data[test_index]\n",
    "    y_train,y_test = iris.target[train_index],iris.target[test_index]\n",
    "   # print(X_train,X_test) ## 틑ㄱ정 위치의 인덱스만 ㅡ\n",
    "   # print(y_train, y_test)\n",
    "    dt_clf.fit(X_train,y_train)\n",
    "    pred=dt_clf.predict(X_test)\n",
    "    n_iter += 1\n",
    "    accuracy = accuracy_score(y_test,pred)\n",
    "    cv_accuracy.append(accuracy)\n",
    "    print(f'{n_iter}교차검증')\n",
    "    print(f'학습데이터크기 : {X_train.shape} 검증데이터크기 : {X_test.shape}, 정확도 : {accuracy}')      \n",
    "    print(f'학습데이터크기 : {y_train}')\n",
    "    print(f'검증데티어 인덱스:{y_test}')\n",
    "print('평균정확도 : ', np.mean(cv_accuracy))"
   ]
  },
  {
   "cell_type": "code",
   "execution_count": 5,
   "id": "16ca5524-eb90-4228-8ac4-5463296a390b",
   "metadata": {},
   "outputs": [],
   "source": [
    "# 비율까지도 맞춰야할 때는 stratified k폴드 사용\n",
    "# 비율이 비슷하면 셔플만 써도 되기도 함\n",
    "# p.104"
   ]
  },
  {
   "cell_type": "code",
   "execution_count": 6,
   "id": "b099b823-6a6e-404d-9666-7efd54449058",
   "metadata": {},
   "outputs": [],
   "source": [
    "import pandas as pd"
   ]
  },
  {
   "cell_type": "code",
   "execution_count": 7,
   "id": "efc8ede4-7bde-43a2-b459-e7b0dd4a0fcd",
   "metadata": {},
   "outputs": [
    {
     "data": {
      "text/plain": [
       "0    50\n",
       "1    50\n",
       "2    50\n",
       "Name: label, dtype: int64"
      ]
     },
     "execution_count": 7,
     "metadata": {},
     "output_type": "execute_result"
    }
   ],
   "source": [
    "iris_df = pd.DataFrame(data=iris.data, columns=iris.feature_names)\n",
    "iris_df['label'] = iris.target\n",
    "iris_df['label'].value_counts()"
   ]
  },
  {
   "cell_type": "code",
   "execution_count": 8,
   "id": "901d84cc-20bd-4e75-a99c-f2fc3c6b9ee9",
   "metadata": {
    "tags": []
   },
   "outputs": [
    {
     "name": "stdout",
     "output_type": "stream",
     "text": [
      "1 교차검증\n",
      "0    34\n",
      "1    33\n",
      "2    33\n",
      "Name: label, dtype: int64\n",
      "1    17\n",
      "2    17\n",
      "0    16\n",
      "Name: label, dtype: int64\n",
      "2 교차검증\n",
      "0    35\n",
      "1    35\n",
      "2    30\n",
      "Name: label, dtype: int64\n",
      "2    20\n",
      "0    15\n",
      "1    15\n",
      "Name: label, dtype: int64\n",
      "3 교차검증\n",
      "2    37\n",
      "1    32\n",
      "0    31\n",
      "Name: label, dtype: int64\n",
      "0    19\n",
      "1    18\n",
      "2    13\n",
      "Name: label, dtype: int64\n"
     ]
    }
   ],
   "source": [
    "kfold = KFold(n_splits=3,shuffle=True) # 3개라 3으로 나눈 것\n",
    "n_iter=0\n",
    "for train_index, test_index in kfold.split(iris_df):\n",
    "    # print(train_index)\n",
    "    # print(test_index)\n",
    "    train=iris_df['label'].iloc[train_index]\n",
    "    test = iris_df['label'].iloc[test_index]\n",
    "    n_iter += 1\n",
    "    print(f'{n_iter} 교차검증')\n",
    "    print(train.value_counts())\n",
    "    print(test.value_counts())"
   ]
  },
  {
   "cell_type": "code",
   "execution_count": 9,
   "id": "42d6bd56-ef53-495f-86a5-a5cb6e718ea8",
   "metadata": {
    "tags": []
   },
   "outputs": [
    {
     "name": "stdout",
     "output_type": "stream",
     "text": [
      "1 교차검증\n",
      "0    40\n",
      "1    40\n",
      "2    40\n",
      "Name: label, dtype: int64\n",
      "0    10\n",
      "1    10\n",
      "2    10\n",
      "Name: label, dtype: int64\n",
      "2 교차검증\n",
      "0    40\n",
      "1    40\n",
      "2    40\n",
      "Name: label, dtype: int64\n",
      "0    10\n",
      "1    10\n",
      "2    10\n",
      "Name: label, dtype: int64\n",
      "3 교차검증\n",
      "0    40\n",
      "1    40\n",
      "2    40\n",
      "Name: label, dtype: int64\n",
      "0    10\n",
      "1    10\n",
      "2    10\n",
      "Name: label, dtype: int64\n",
      "4 교차검증\n",
      "0    40\n",
      "1    40\n",
      "2    40\n",
      "Name: label, dtype: int64\n",
      "0    10\n",
      "1    10\n",
      "2    10\n",
      "Name: label, dtype: int64\n",
      "5 교차검증\n",
      "0    40\n",
      "1    40\n",
      "2    40\n",
      "Name: label, dtype: int64\n",
      "0    10\n",
      "1    10\n",
      "2    10\n",
      "Name: label, dtype: int64\n"
     ]
    }
   ],
   "source": [
    "skf = StratifiedKFold(n_splits=5,shuffle=False)\n",
    "n_iter = 0\n",
    "for train_index, test_index in skf.split(iris_df,iris_df['label']): # 레이블값도 줘야 데이터 비율을 따질 수 있음\n",
    "    # print(train_index)\n",
    "    # print(test_index)\n",
    "    train=iris_df['label'].iloc[train_index]\n",
    "    test = iris_df['label'].iloc[test_index]\n",
    "    n_iter += 1\n",
    "    print(f'{n_iter} 교차검증')\n",
    "    print(train.value_counts())\n",
    "    print(test.value_counts())"
   ]
  },
  {
   "cell_type": "code",
   "execution_count": 10,
   "id": "7c84bf02-eb8f-47d5-aea9-cdf0318f02a5",
   "metadata": {
    "tags": []
   },
   "outputs": [
    {
     "name": "stdout",
     "output_type": "stream",
     "text": [
      "1교차검증\n",
      "학습데이터크기 : (120, 4) 검증데이터크기 : (30, 4), 정확도 : 0.9333333333333333\n",
      "학습데이터크기 : [0 0 0 0 0 0 0 0 0 0 0 0 0 0 0 0 0 0 0 0 0 0 0 0 0 0 0 0 0 0 0 0 0 0 0 0 0\n",
      " 0 0 0 1 1 1 1 1 1 1 1 1 1 1 1 1 1 1 1 1 1 1 1 1 1 1 1 1 1 1 1 1 1 1 1 1 1\n",
      " 1 1 1 1 1 1 2 2 2 2 2 2 2 2 2 2 2 2 2 2 2 2 2 2 2 2 2 2 2 2 2 2 2 2 2 2 2\n",
      " 2 2 2 2 2 2 2 2 2]\n",
      "검증데티어 인덱스:[0 0 0 0 0 0 0 0 0 0 1 1 1 1 1 1 1 1 1 1 2 2 2 2 2 2 2 2 2 2]\n",
      "2교차검증\n",
      "학습데이터크기 : (120, 4) 검증데이터크기 : (30, 4), 정확도 : 0.9666666666666667\n",
      "학습데이터크기 : [0 0 0 0 0 0 0 0 0 0 0 0 0 0 0 0 0 0 0 0 0 0 0 0 0 0 0 0 0 0 0 0 0 0 0 0 0\n",
      " 0 0 0 1 1 1 1 1 1 1 1 1 1 1 1 1 1 1 1 1 1 1 1 1 1 1 1 1 1 1 1 1 1 1 1 1 1\n",
      " 1 1 1 1 1 1 2 2 2 2 2 2 2 2 2 2 2 2 2 2 2 2 2 2 2 2 2 2 2 2 2 2 2 2 2 2 2\n",
      " 2 2 2 2 2 2 2 2 2]\n",
      "검증데티어 인덱스:[0 0 0 0 0 0 0 0 0 0 1 1 1 1 1 1 1 1 1 1 2 2 2 2 2 2 2 2 2 2]\n",
      "3교차검증\n",
      "학습데이터크기 : (120, 4) 검증데이터크기 : (30, 4), 정확도 : 0.9333333333333333\n",
      "학습데이터크기 : [0 0 0 0 0 0 0 0 0 0 0 0 0 0 0 0 0 0 0 0 0 0 0 0 0 0 0 0 0 0 0 0 0 0 0 0 0\n",
      " 0 0 0 1 1 1 1 1 1 1 1 1 1 1 1 1 1 1 1 1 1 1 1 1 1 1 1 1 1 1 1 1 1 1 1 1 1\n",
      " 1 1 1 1 1 1 2 2 2 2 2 2 2 2 2 2 2 2 2 2 2 2 2 2 2 2 2 2 2 2 2 2 2 2 2 2 2\n",
      " 2 2 2 2 2 2 2 2 2]\n",
      "검증데티어 인덱스:[0 0 0 0 0 0 0 0 0 0 1 1 1 1 1 1 1 1 1 1 2 2 2 2 2 2 2 2 2 2]\n",
      "4교차검증\n",
      "학습데이터크기 : (120, 4) 검증데이터크기 : (30, 4), 정확도 : 0.9666666666666667\n",
      "학습데이터크기 : [0 0 0 0 0 0 0 0 0 0 0 0 0 0 0 0 0 0 0 0 0 0 0 0 0 0 0 0 0 0 0 0 0 0 0 0 0\n",
      " 0 0 0 1 1 1 1 1 1 1 1 1 1 1 1 1 1 1 1 1 1 1 1 1 1 1 1 1 1 1 1 1 1 1 1 1 1\n",
      " 1 1 1 1 1 1 2 2 2 2 2 2 2 2 2 2 2 2 2 2 2 2 2 2 2 2 2 2 2 2 2 2 2 2 2 2 2\n",
      " 2 2 2 2 2 2 2 2 2]\n",
      "검증데티어 인덱스:[0 0 0 0 0 0 0 0 0 0 1 1 1 1 1 1 1 1 1 1 2 2 2 2 2 2 2 2 2 2]\n",
      "5교차검증\n",
      "학습데이터크기 : (120, 4) 검증데이터크기 : (30, 4), 정확도 : 0.9666666666666667\n",
      "학습데이터크기 : [0 0 0 0 0 0 0 0 0 0 0 0 0 0 0 0 0 0 0 0 0 0 0 0 0 0 0 0 0 0 0 0 0 0 0 0 0\n",
      " 0 0 0 1 1 1 1 1 1 1 1 1 1 1 1 1 1 1 1 1 1 1 1 1 1 1 1 1 1 1 1 1 1 1 1 1 1\n",
      " 1 1 1 1 1 1 2 2 2 2 2 2 2 2 2 2 2 2 2 2 2 2 2 2 2 2 2 2 2 2 2 2 2 2 2 2 2\n",
      " 2 2 2 2 2 2 2 2 2]\n",
      "검증데티어 인덱스:[0 0 0 0 0 0 0 0 0 0 1 1 1 1 1 1 1 1 1 1 2 2 2 2 2 2 2 2 2 2]\n",
      "평균정확도 :  0.9533333333333334\n"
     ]
    }
   ],
   "source": [
    "skf = StratifiedKFold(n_splits=5,shuffle=True)\n",
    "cv_accuracy=[]\n",
    "n_iter = 0\n",
    "for train_index, test_index in skf.split(iris.data,iris.target): # target값도 같이 들어가야함\n",
    "    # print(train_index)\n",
    "    # print(test_index)\n",
    "    # 데이터 나누기\n",
    "    X_train,X_test = iris.data[train_index],iris.data[test_index]\n",
    "    y_train,y_test = iris.target[train_index],iris.target[test_index]\n",
    "   # print(X_train,X_test) ## 틑ㄱ정 위치의 인덱스만 ㅡ\n",
    "   # print(y_train, y_test)\n",
    "    dt_clf.fit(X_train,y_train)\n",
    "    pred=dt_clf.predict(X_test)\n",
    "    n_iter += 1\n",
    "    accuracy = accuracy_score(y_test,pred)\n",
    "    cv_accuracy.append(accuracy)\n",
    "    print(f'{n_iter}교차검증')\n",
    "    print(f'학습데이터크기 : {X_train.shape} 검증데이터크기 : {X_test.shape}, 정확도 : {accuracy}')      \n",
    "    print(f'학습데이터크기 : {y_train}')\n",
    "    print(f'검증데티어 인덱스:{y_test}')\n",
    "print('평균정확도 : ', np.mean(cv_accuracy))"
   ]
  },
  {
   "cell_type": "code",
   "execution_count": 11,
   "id": "d109e725-0c97-490d-9112-1ed208c5b35c",
   "metadata": {},
   "outputs": [],
   "source": [
    "# 학습용, 검증용 데이터를 나눌 때 균형이 중요함(과대적합, 과소적합 문제) -> 교차검증 거침"
   ]
  },
  {
   "cell_type": "code",
   "execution_count": 12,
   "id": "b73881f6-424f-4f24-887f-5c630896ffe3",
   "metadata": {},
   "outputs": [],
   "source": [
    "from sklearn.model_selection import cross_val_score"
   ]
  },
  {
   "cell_type": "code",
   "execution_count": 13,
   "id": "f758f713-92da-4610-ac67-51acb7c53908",
   "metadata": {},
   "outputs": [
    {
     "data": {
      "text/plain": [
       "array([0.98, 0.94, 0.98])"
      ]
     },
     "execution_count": 13,
     "metadata": {},
     "output_type": "execute_result"
    }
   ],
   "source": [
    "cross_val_score(dt_clf,iris.data,iris.target,scoring='accuracy',cv=3) # 전체 데이터를 3등분해서 처리 \n",
    "# 교차검증 쉽게 하는 법\n",
    "# 정확도 빨리 파악 가능\n",
    "# 하이퍼 파라미터(직접 지정해야하는)에 따라서도 결과가 달라질 수 있음"
   ]
  },
  {
   "cell_type": "code",
   "execution_count": 14,
   "id": "7d92dabf-7f31-480d-81f8-d1ed8f3efb14",
   "metadata": {},
   "outputs": [],
   "source": [
    "from sklearn.model_selection import GridSearchCV,train_test_split"
   ]
  },
  {
   "cell_type": "code",
   "execution_count": 15,
   "id": "94fcead2-b0dc-4872-8952-954383f594fe",
   "metadata": {},
   "outputs": [],
   "source": [
    "iris = load_iris()\n",
    "X_train, X_test, y_train, y_test = train_test_split(iris.data,\n",
    "                                                    iris.target,\n",
    "                                                    test_size=0.2,\n",
    "                                                    random_state=121)\n",
    "dtree = DecisionTreeClassifier() #파라미터 값을 바깥에 정의할거라 기본을오\n",
    "parameters = {'max_depth':[1,2,3],\n",
    "              'min_samples_split':[2,3]} # 값이 여러개라 리스트로\n",
    "# [1,2,3] [2,3] 총 6번"
   ]
  },
  {
   "cell_type": "code",
   "execution_count": 16,
   "id": "b12de8e6-c23f-4964-92ed-8f6ad503cbcb",
   "metadata": {},
   "outputs": [],
   "source": [
    "grid_dtree = GridSearchCV(dtree,parameters,cv=3,refit=True)  # dtree가 estimator\n",
    "# refit = True이면 경우의 수만큼 학습한 뒤 마지막에 제일 좋았던 것으로 다시 학습. 대신 시간 걸림\n",
    "# cv=3이므로 6*3=18 총 18번 실행됨"
   ]
  },
  {
   "cell_type": "code",
   "execution_count": 17,
   "id": "b049f987-b11f-4492-8156-b56f6dfb30d2",
   "metadata": {},
   "outputs": [
    {
     "data": {
      "text/html": [
       "<style>#sk-container-id-1 {color: black;background-color: white;}#sk-container-id-1 pre{padding: 0;}#sk-container-id-1 div.sk-toggleable {background-color: white;}#sk-container-id-1 label.sk-toggleable__label {cursor: pointer;display: block;width: 100%;margin-bottom: 0;padding: 0.3em;box-sizing: border-box;text-align: center;}#sk-container-id-1 label.sk-toggleable__label-arrow:before {content: \"▸\";float: left;margin-right: 0.25em;color: #696969;}#sk-container-id-1 label.sk-toggleable__label-arrow:hover:before {color: black;}#sk-container-id-1 div.sk-estimator:hover label.sk-toggleable__label-arrow:before {color: black;}#sk-container-id-1 div.sk-toggleable__content {max-height: 0;max-width: 0;overflow: hidden;text-align: left;background-color: #f0f8ff;}#sk-container-id-1 div.sk-toggleable__content pre {margin: 0.2em;color: black;border-radius: 0.25em;background-color: #f0f8ff;}#sk-container-id-1 input.sk-toggleable__control:checked~div.sk-toggleable__content {max-height: 200px;max-width: 100%;overflow: auto;}#sk-container-id-1 input.sk-toggleable__control:checked~label.sk-toggleable__label-arrow:before {content: \"▾\";}#sk-container-id-1 div.sk-estimator input.sk-toggleable__control:checked~label.sk-toggleable__label {background-color: #d4ebff;}#sk-container-id-1 div.sk-label input.sk-toggleable__control:checked~label.sk-toggleable__label {background-color: #d4ebff;}#sk-container-id-1 input.sk-hidden--visually {border: 0;clip: rect(1px 1px 1px 1px);clip: rect(1px, 1px, 1px, 1px);height: 1px;margin: -1px;overflow: hidden;padding: 0;position: absolute;width: 1px;}#sk-container-id-1 div.sk-estimator {font-family: monospace;background-color: #f0f8ff;border: 1px dotted black;border-radius: 0.25em;box-sizing: border-box;margin-bottom: 0.5em;}#sk-container-id-1 div.sk-estimator:hover {background-color: #d4ebff;}#sk-container-id-1 div.sk-parallel-item::after {content: \"\";width: 100%;border-bottom: 1px solid gray;flex-grow: 1;}#sk-container-id-1 div.sk-label:hover label.sk-toggleable__label {background-color: #d4ebff;}#sk-container-id-1 div.sk-serial::before {content: \"\";position: absolute;border-left: 1px solid gray;box-sizing: border-box;top: 0;bottom: 0;left: 50%;z-index: 0;}#sk-container-id-1 div.sk-serial {display: flex;flex-direction: column;align-items: center;background-color: white;padding-right: 0.2em;padding-left: 0.2em;position: relative;}#sk-container-id-1 div.sk-item {position: relative;z-index: 1;}#sk-container-id-1 div.sk-parallel {display: flex;align-items: stretch;justify-content: center;background-color: white;position: relative;}#sk-container-id-1 div.sk-item::before, #sk-container-id-1 div.sk-parallel-item::before {content: \"\";position: absolute;border-left: 1px solid gray;box-sizing: border-box;top: 0;bottom: 0;left: 50%;z-index: -1;}#sk-container-id-1 div.sk-parallel-item {display: flex;flex-direction: column;z-index: 1;position: relative;background-color: white;}#sk-container-id-1 div.sk-parallel-item:first-child::after {align-self: flex-end;width: 50%;}#sk-container-id-1 div.sk-parallel-item:last-child::after {align-self: flex-start;width: 50%;}#sk-container-id-1 div.sk-parallel-item:only-child::after {width: 0;}#sk-container-id-1 div.sk-dashed-wrapped {border: 1px dashed gray;margin: 0 0.4em 0.5em 0.4em;box-sizing: border-box;padding-bottom: 0.4em;background-color: white;}#sk-container-id-1 div.sk-label label {font-family: monospace;font-weight: bold;display: inline-block;line-height: 1.2em;}#sk-container-id-1 div.sk-label-container {text-align: center;}#sk-container-id-1 div.sk-container {/* jupyter's `normalize.less` sets `[hidden] { display: none; }` but bootstrap.min.css set `[hidden] { display: none !important; }` so we also need the `!important` here to be able to override the default hidden behavior on the sphinx rendered scikit-learn.org. See: https://github.com/scikit-learn/scikit-learn/issues/21755 */display: inline-block !important;position: relative;}#sk-container-id-1 div.sk-text-repr-fallback {display: none;}</style><div id=\"sk-container-id-1\" class=\"sk-top-container\"><div class=\"sk-text-repr-fallback\"><pre>GridSearchCV(cv=3, estimator=DecisionTreeClassifier(),\n",
       "             param_grid={&#x27;max_depth&#x27;: [1, 2, 3], &#x27;min_samples_split&#x27;: [2, 3]})</pre><b>In a Jupyter environment, please rerun this cell to show the HTML representation or trust the notebook. <br />On GitHub, the HTML representation is unable to render, please try loading this page with nbviewer.org.</b></div><div class=\"sk-container\" hidden><div class=\"sk-item sk-dashed-wrapped\"><div class=\"sk-label-container\"><div class=\"sk-label sk-toggleable\"><input class=\"sk-toggleable__control sk-hidden--visually\" id=\"sk-estimator-id-1\" type=\"checkbox\" ><label for=\"sk-estimator-id-1\" class=\"sk-toggleable__label sk-toggleable__label-arrow\">GridSearchCV</label><div class=\"sk-toggleable__content\"><pre>GridSearchCV(cv=3, estimator=DecisionTreeClassifier(),\n",
       "             param_grid={&#x27;max_depth&#x27;: [1, 2, 3], &#x27;min_samples_split&#x27;: [2, 3]})</pre></div></div></div><div class=\"sk-parallel\"><div class=\"sk-parallel-item\"><div class=\"sk-item\"><div class=\"sk-label-container\"><div class=\"sk-label sk-toggleable\"><input class=\"sk-toggleable__control sk-hidden--visually\" id=\"sk-estimator-id-2\" type=\"checkbox\" ><label for=\"sk-estimator-id-2\" class=\"sk-toggleable__label sk-toggleable__label-arrow\">estimator: DecisionTreeClassifier</label><div class=\"sk-toggleable__content\"><pre>DecisionTreeClassifier()</pre></div></div></div><div class=\"sk-serial\"><div class=\"sk-item\"><div class=\"sk-estimator sk-toggleable\"><input class=\"sk-toggleable__control sk-hidden--visually\" id=\"sk-estimator-id-3\" type=\"checkbox\" ><label for=\"sk-estimator-id-3\" class=\"sk-toggleable__label sk-toggleable__label-arrow\">DecisionTreeClassifier</label><div class=\"sk-toggleable__content\"><pre>DecisionTreeClassifier()</pre></div></div></div></div></div></div></div></div></div></div>"
      ],
      "text/plain": [
       "GridSearchCV(cv=3, estimator=DecisionTreeClassifier(),\n",
       "             param_grid={'max_depth': [1, 2, 3], 'min_samples_split': [2, 3]})"
      ]
     },
     "execution_count": 17,
     "metadata": {},
     "output_type": "execute_result"
    }
   ],
   "source": [
    "grid_dtree.fit(X_train,y_train)"
   ]
  },
  {
   "cell_type": "code",
   "execution_count": 18,
   "id": "a71ce136-2c54-4438-901b-a499c23f0aaf",
   "metadata": {
    "collapsed": true,
    "jupyter": {
     "outputs_hidden": true
    },
    "tags": []
   },
   "outputs": [
    {
     "data": {
      "text/plain": [
       "{'mean_fit_time': array([0.        , 0.00033402, 0.00033228, 0.        , 0.00069396,\n",
       "        0.00033212]),\n",
       " 'std_fit_time': array([0.        , 0.00047238, 0.00046991, 0.        , 0.00049157,\n",
       "        0.00046968]),\n",
       " 'mean_score_time': array([0.00033212, 0.        , 0.        , 0.0003322 , 0.        ,\n",
       "        0.        ]),\n",
       " 'std_score_time': array([0.00046968, 0.        , 0.        , 0.0004698 , 0.        ,\n",
       "        0.        ]),\n",
       " 'param_max_depth': masked_array(data=[1, 1, 2, 2, 3, 3],\n",
       "              mask=[False, False, False, False, False, False],\n",
       "        fill_value='?',\n",
       "             dtype=object),\n",
       " 'param_min_samples_split': masked_array(data=[2, 3, 2, 3, 2, 3],\n",
       "              mask=[False, False, False, False, False, False],\n",
       "        fill_value='?',\n",
       "             dtype=object),\n",
       " 'params': [{'max_depth': 1, 'min_samples_split': 2},\n",
       "  {'max_depth': 1, 'min_samples_split': 3},\n",
       "  {'max_depth': 2, 'min_samples_split': 2},\n",
       "  {'max_depth': 2, 'min_samples_split': 3},\n",
       "  {'max_depth': 3, 'min_samples_split': 2},\n",
       "  {'max_depth': 3, 'min_samples_split': 3}],\n",
       " 'split0_test_score': array([0.7  , 0.7  , 0.925, 0.925, 0.975, 0.975]),\n",
       " 'split1_test_score': array([0.7, 0.7, 1. , 1. , 1. , 1. ]),\n",
       " 'split2_test_score': array([0.7 , 0.7 , 0.95, 0.95, 0.95, 0.95]),\n",
       " 'mean_test_score': array([0.7       , 0.7       , 0.95833333, 0.95833333, 0.975     ,\n",
       "        0.975     ]),\n",
       " 'std_test_score': array([1.11022302e-16, 1.11022302e-16, 3.11804782e-02, 3.11804782e-02,\n",
       "        2.04124145e-02, 2.04124145e-02]),\n",
       " 'rank_test_score': array([5, 5, 3, 3, 1, 1])}"
      ]
     },
     "execution_count": 18,
     "metadata": {},
     "output_type": "execute_result"
    }
   ],
   "source": [
    "grid_dtree.cv_results_"
   ]
  },
  {
   "cell_type": "code",
   "execution_count": 20,
   "id": "4fa9d063-0c51-46d0-bae9-cd1d19e79131",
   "metadata": {},
   "outputs": [
    {
     "data": {
      "text/html": [
       "<div>\n",
       "<style scoped>\n",
       "    .dataframe tbody tr th:only-of-type {\n",
       "        vertical-align: middle;\n",
       "    }\n",
       "\n",
       "    .dataframe tbody tr th {\n",
       "        vertical-align: top;\n",
       "    }\n",
       "\n",
       "    .dataframe thead th {\n",
       "        text-align: right;\n",
       "    }\n",
       "</style>\n",
       "<table border=\"1\" class=\"dataframe\">\n",
       "  <thead>\n",
       "    <tr style=\"text-align: right;\">\n",
       "      <th></th>\n",
       "      <th>mean_fit_time</th>\n",
       "      <th>std_fit_time</th>\n",
       "      <th>mean_score_time</th>\n",
       "      <th>std_score_time</th>\n",
       "      <th>param_max_depth</th>\n",
       "      <th>param_min_samples_split</th>\n",
       "      <th>params</th>\n",
       "      <th>split0_test_score</th>\n",
       "      <th>split1_test_score</th>\n",
       "      <th>split2_test_score</th>\n",
       "      <th>mean_test_score</th>\n",
       "      <th>std_test_score</th>\n",
       "      <th>rank_test_score</th>\n",
       "    </tr>\n",
       "  </thead>\n",
       "  <tbody>\n",
       "    <tr>\n",
       "      <th>0</th>\n",
       "      <td>0.0</td>\n",
       "      <td>0.0</td>\n",
       "      <td>0.000332</td>\n",
       "      <td>0.00047</td>\n",
       "      <td>1</td>\n",
       "      <td>2</td>\n",
       "      <td>{'max_depth': 1, 'min_samples_split': 2}</td>\n",
       "      <td>0.7</td>\n",
       "      <td>0.7</td>\n",
       "      <td>0.7</td>\n",
       "      <td>0.7</td>\n",
       "      <td>1.110223e-16</td>\n",
       "      <td>5</td>\n",
       "    </tr>\n",
       "  </tbody>\n",
       "</table>\n",
       "</div>"
      ],
      "text/plain": [
       "   mean_fit_time  std_fit_time  mean_score_time  std_score_time  \\\n",
       "0            0.0           0.0         0.000332         0.00047   \n",
       "\n",
       "  param_max_depth param_min_samples_split  \\\n",
       "0               1                       2   \n",
       "\n",
       "                                     params  split0_test_score  \\\n",
       "0  {'max_depth': 1, 'min_samples_split': 2}                0.7   \n",
       "\n",
       "   split1_test_score  split2_test_score  mean_test_score  std_test_score  \\\n",
       "0                0.7                0.7              0.7    1.110223e-16   \n",
       "\n",
       "   rank_test_score  \n",
       "0                5  "
      ]
     },
     "execution_count": 20,
     "metadata": {},
     "output_type": "execute_result"
    }
   ],
   "source": [
    "scores_df = pd.DataFrame(grid_dtree.cv_results_)\n",
    "scores_df.head(1)"
   ]
  },
  {
   "cell_type": "code",
   "execution_count": 21,
   "id": "bab7e551-744e-4e5e-aba8-029f670edaa8",
   "metadata": {},
   "outputs": [
    {
     "data": {
      "text/plain": [
       "Index(['mean_fit_time', 'std_fit_time', 'mean_score_time', 'std_score_time',\n",
       "       'param_max_depth', 'param_min_samples_split', 'params',\n",
       "       'split0_test_score', 'split1_test_score', 'split2_test_score',\n",
       "       'mean_test_score', 'std_test_score', 'rank_test_score'],\n",
       "      dtype='object')"
      ]
     },
     "execution_count": 21,
     "metadata": {},
     "output_type": "execute_result"
    }
   ],
   "source": [
    "scores_df.columns"
   ]
  },
  {
   "cell_type": "code",
   "execution_count": 22,
   "id": "ae3aaff4-a3e0-44df-a52f-8f6361978678",
   "metadata": {
    "collapsed": true,
    "jupyter": {
     "outputs_hidden": true
    },
    "tags": []
   },
   "outputs": [
    {
     "data": {
      "text/html": [
       "<div>\n",
       "<style scoped>\n",
       "    .dataframe tbody tr th:only-of-type {\n",
       "        vertical-align: middle;\n",
       "    }\n",
       "\n",
       "    .dataframe tbody tr th {\n",
       "        vertical-align: top;\n",
       "    }\n",
       "\n",
       "    .dataframe thead th {\n",
       "        text-align: right;\n",
       "    }\n",
       "</style>\n",
       "<table border=\"1\" class=\"dataframe\">\n",
       "  <thead>\n",
       "    <tr style=\"text-align: right;\">\n",
       "      <th></th>\n",
       "      <th>params</th>\n",
       "      <th>mean_test_score</th>\n",
       "      <th>rank_test_score</th>\n",
       "      <th>split0_test_score</th>\n",
       "      <th>split1_test_score</th>\n",
       "      <th>split2_test_score</th>\n",
       "    </tr>\n",
       "  </thead>\n",
       "  <tbody>\n",
       "    <tr>\n",
       "      <th>0</th>\n",
       "      <td>{'max_depth': 1, 'min_samples_split': 2}</td>\n",
       "      <td>0.700000</td>\n",
       "      <td>5</td>\n",
       "      <td>0.700</td>\n",
       "      <td>0.7</td>\n",
       "      <td>0.70</td>\n",
       "    </tr>\n",
       "    <tr>\n",
       "      <th>1</th>\n",
       "      <td>{'max_depth': 1, 'min_samples_split': 3}</td>\n",
       "      <td>0.700000</td>\n",
       "      <td>5</td>\n",
       "      <td>0.700</td>\n",
       "      <td>0.7</td>\n",
       "      <td>0.70</td>\n",
       "    </tr>\n",
       "    <tr>\n",
       "      <th>2</th>\n",
       "      <td>{'max_depth': 2, 'min_samples_split': 2}</td>\n",
       "      <td>0.958333</td>\n",
       "      <td>3</td>\n",
       "      <td>0.925</td>\n",
       "      <td>1.0</td>\n",
       "      <td>0.95</td>\n",
       "    </tr>\n",
       "    <tr>\n",
       "      <th>3</th>\n",
       "      <td>{'max_depth': 2, 'min_samples_split': 3}</td>\n",
       "      <td>0.958333</td>\n",
       "      <td>3</td>\n",
       "      <td>0.925</td>\n",
       "      <td>1.0</td>\n",
       "      <td>0.95</td>\n",
       "    </tr>\n",
       "    <tr>\n",
       "      <th>4</th>\n",
       "      <td>{'max_depth': 3, 'min_samples_split': 2}</td>\n",
       "      <td>0.975000</td>\n",
       "      <td>1</td>\n",
       "      <td>0.975</td>\n",
       "      <td>1.0</td>\n",
       "      <td>0.95</td>\n",
       "    </tr>\n",
       "    <tr>\n",
       "      <th>5</th>\n",
       "      <td>{'max_depth': 3, 'min_samples_split': 3}</td>\n",
       "      <td>0.975000</td>\n",
       "      <td>1</td>\n",
       "      <td>0.975</td>\n",
       "      <td>1.0</td>\n",
       "      <td>0.95</td>\n",
       "    </tr>\n",
       "  </tbody>\n",
       "</table>\n",
       "</div>"
      ],
      "text/plain": [
       "                                     params  mean_test_score  rank_test_score  \\\n",
       "0  {'max_depth': 1, 'min_samples_split': 2}         0.700000                5   \n",
       "1  {'max_depth': 1, 'min_samples_split': 3}         0.700000                5   \n",
       "2  {'max_depth': 2, 'min_samples_split': 2}         0.958333                3   \n",
       "3  {'max_depth': 2, 'min_samples_split': 3}         0.958333                3   \n",
       "4  {'max_depth': 3, 'min_samples_split': 2}         0.975000                1   \n",
       "5  {'max_depth': 3, 'min_samples_split': 3}         0.975000                1   \n",
       "\n",
       "   split0_test_score  split1_test_score  split2_test_score  \n",
       "0              0.700                0.7               0.70  \n",
       "1              0.700                0.7               0.70  \n",
       "2              0.925                1.0               0.95  \n",
       "3              0.925                1.0               0.95  \n",
       "4              0.975                1.0               0.95  \n",
       "5              0.975                1.0               0.95  "
      ]
     },
     "execution_count": 22,
     "metadata": {},
     "output_type": "execute_result"
    }
   ],
   "source": [
    "scores_df[['params','mean_test_score','rank_test_score', 'split0_test_score', 'split1_test_score', 'split2_test_score']] # 필요한 것만 가져오기\n",
    "# rank_test_score가 1일수록 좋음\n",
    "# GridSearchCV는 교차검증, 파라미터 튜닝에 사용"
   ]
  },
  {
   "cell_type": "code",
   "execution_count": 23,
   "id": "c46283d9-3330-4de7-8156-6dbe14a8ef57",
   "metadata": {},
   "outputs": [
    {
     "data": {
      "text/plain": [
       "{'max_depth': 3, 'min_samples_split': 2}"
      ]
     },
     "execution_count": 23,
     "metadata": {},
     "output_type": "execute_result"
    }
   ],
   "source": [
    "grid_dtree.best_params_"
   ]
  },
  {
   "cell_type": "code",
   "execution_count": 24,
   "id": "dc1ba4f9-6dc8-42db-9258-e94c3635f3c8",
   "metadata": {},
   "outputs": [
    {
     "data": {
      "text/plain": [
       "0.975"
      ]
     },
     "execution_count": 24,
     "metadata": {},
     "output_type": "execute_result"
    }
   ],
   "source": [
    "grid_dtree.best_score_"
   ]
  },
  {
   "cell_type": "code",
   "execution_count": 25,
   "id": "02d5fff6-38e5-4c69-b67e-2804d0fb2285",
   "metadata": {},
   "outputs": [],
   "source": [
    "pred=grid_dtree.best_estimator_.predict(X_test)"
   ]
  },
  {
   "cell_type": "code",
   "execution_count": 26,
   "id": "a6c96b33-7994-4a9a-b0a6-a7396b39e0cb",
   "metadata": {},
   "outputs": [
    {
     "data": {
      "text/plain": [
       "0.9666666666666667"
      ]
     },
     "execution_count": 26,
     "metadata": {},
     "output_type": "execute_result"
    }
   ],
   "source": [
    "accuracy_score(y_test,pred) # 테스트용으로 빼둔 데이터. 위의 0.975와 유사하게 나오면 학습이 잘 된 것"
   ]
  },
  {
   "cell_type": "code",
   "execution_count": null,
   "id": "c5893a84-74b1-4d3d-b701-35a31f3e1a08",
   "metadata": {},
   "outputs": [],
   "source": [
    "# p.116 결손값에 대한 처리 1) 제거 2) 채워넣기\n",
    "# 사이킷런의 머신러닝 알고리즘은 문자열 값을 입력값으로 허용하지 x -> 모든 문자열 값은 인코딩돼서 숫자형으로 변환해야\n",
    "# 주민번호같은 일련번호는 날림"
   ]
  }
 ],
 "metadata": {
  "kernelspec": {
   "display_name": "Python 3 (ipykernel)",
   "language": "python",
   "name": "python3"
  },
  "language_info": {
   "codemirror_mode": {
    "name": "ipython",
    "version": 3
   },
   "file_extension": ".py",
   "mimetype": "text/x-python",
   "name": "python",
   "nbconvert_exporter": "python",
   "pygments_lexer": "ipython3",
   "version": "3.9.12"
  }
 },
 "nbformat": 4,
 "nbformat_minor": 5
}

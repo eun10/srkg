{
 "cells": [
  {
   "cell_type": "code",
   "execution_count": 1,
   "id": "72fe230a-7351-4014-9562-a7cac836638b",
   "metadata": {},
   "outputs": [],
   "source": [
    "from sklearn.base import BaseEstimator # BaseEstimator가 부모?"
   ]
  },
  {
   "cell_type": "code",
   "execution_count": 2,
   "id": "0d84f835-0719-4e81-9821-16a12072e7c0",
   "metadata": {},
   "outputs": [],
   "source": [
    "### 클래스 만들기\n",
    "class MyDummyClassifier(BaseEstimator): # BaseEstimator에서 상속받아 만듦\n",
    "    def fit(self,X,y=None):  \n",
    "        pass\n",
    "    def predict(self,X):\n",
    "        import numpy as np\n",
    "        pred = np.zeros((X.shape[0],1))  # 행렬을 만드는데 0으로 채워진 것을 만든다. () 안에 몇 행 몇 열인지 적음\n",
    "        # 행단위로 데이터가 2건이 들어오면 2행이, 열은 1개\n",
    "        for i in range(X.shape[0]): # 데이터 건수만큼 반복\n",
    "            if X['Sex'].iloc[i] == 1: \n",
    "                pred[i] = 0 # 학습시키지 않고 데이터 보고 남자인 경우 사망?\n",
    "            else:\n",
    "                pred[i] = 1\n",
    "        return pred"
   ]
  },
  {
   "cell_type": "code",
   "execution_count": 3,
   "id": "7a091242-eebb-4629-837c-ec2539d1178d",
   "metadata": {},
   "outputs": [],
   "source": [
    "def fillna(df):\n",
    "    df['Age'].fillna(df['Age'].mean(),inplace=True)\n",
    "    df['Cabin'].fillna('N',inplace=True)\n",
    "    df['Embarked'].fillna('N',inplace=True)\n",
    "    df['Fare'].fillna(0,inplace=True)\n",
    "    return df\n",
    "def drop_features(df):\n",
    "    df.drop(columns = ['PassengerId','Name','Ticket'],inplace=True) # 필요없는 열 제거\n",
    "    return df\n",
    "def format_features(df):\n",
    "    from sklearn.preprocessing import LabelEncoder\n",
    "    df['Cabin'] = df['Cabin'].str[0]\n",
    "    features = ['Cabin','Sex','Embarked']\n",
    "    for feature in features: # 각 열의 레이블을 만들고 학습\n",
    "        le = LabelEncoder()\n",
    "        df[feature] = le.fit_transform(df[feature]) # 변경된 것을 원래 위치에 넣기\n",
    "        print(le.classes_)\n",
    "    return df\n",
    "def transform_features():\n",
    "    import pandas as pd\n",
    "    df = pd.read_csv('titanic_train.csv')\n",
    "    df = fillna(df)\n",
    "    df = drop_features(df)\n",
    "    df = format_features(df)\n",
    "    return df"
   ]
  },
  {
   "cell_type": "code",
   "execution_count": 4,
   "id": "288b5e09-48cb-4bae-8156-a994a3cf7f86",
   "metadata": {},
   "outputs": [
    {
     "name": "stdout",
     "output_type": "stream",
     "text": [
      "['A' 'B' 'C' 'D' 'E' 'F' 'G' 'N' 'T']\n",
      "['female' 'male']\n",
      "['C' 'N' 'Q' 'S']\n"
     ]
    }
   ],
   "source": [
    "titanic_df = transform_features() # 데이터 가져오기"
   ]
  },
  {
   "cell_type": "code",
   "execution_count": 5,
   "id": "b9d93934-bc7f-4502-aa63-d2a8d9f18370",
   "metadata": {},
   "outputs": [],
   "source": [
    "# x값 y값 분리\n",
    "from sklearn.model_selection import train_test_split\n",
    "X_df = titanic_df.drop(columns=['Survived'])\n",
    "y_df = titanic_df['Survived']\n",
    "X_train,X_test,y_train,y_test = train_test_split(X_df,y_df,test_size=0.2,random_state=11)"
   ]
  },
  {
   "cell_type": "code",
   "execution_count": 6,
   "id": "7130623c-9a64-45f6-987c-e4f6e0d8ecc1",
   "metadata": {},
   "outputs": [],
   "source": [
    "from sklearn.metrics import accuracy_score"
   ]
  },
  {
   "cell_type": "code",
   "execution_count": 7,
   "id": "f80636ff-41c1-4c4e-9a3d-8d6cae7a3df7",
   "metadata": {},
   "outputs": [
    {
     "data": {
      "text/plain": [
       "0.8324022346368715"
      ]
     },
     "execution_count": 7,
     "metadata": {},
     "output_type": "execute_result"
    }
   ],
   "source": [
    "### 정확도 구하기\n",
    "# 만들어둔 모델에 넣고 확인\n",
    "my = MyDummyClassifier()\n",
    "my.fit(X_train,y_train)\n",
    "pred = my.predict(X_test)\n",
    "accuracy_score(y_test,pred)\n",
    "# 성별에 따라 생존여부를 나누었을 때 정확도가 83.24% \n",
    "# -> 정확도만으로는 모델이 학습이 잘 되었는지 판단하기가 어려움"
   ]
  },
  {
   "cell_type": "code",
   "execution_count": 8,
   "id": "e374705d-8b78-450c-a67d-90a13f577756",
   "metadata": {},
   "outputs": [],
   "source": [
    "### 오차 행렬 confusion_matrix\n",
    "# 0쪽이 아닌 1쪽을 기준으로 \n",
    "from sklearn.metrics import confusion_matrix"
   ]
  },
  {
   "cell_type": "code",
   "execution_count": 9,
   "id": "4733c242-52d2-45ae-aada-2ab2b0d68ded",
   "metadata": {},
   "outputs": [
    {
     "data": {
      "text/plain": [
       "array([[103,  15],\n",
       "       [ 15,  46]], dtype=int64)"
      ]
     },
     "execution_count": 9,
     "metadata": {},
     "output_type": "execute_result"
    }
   ],
   "source": [
    "confusion_matrix(y_test,pred) # 103, 46 맞힘"
   ]
  },
  {
   "cell_type": "code",
   "execution_count": 10,
   "id": "55a8b83f-e067-4ee6-8bc4-ab2339c9d21f",
   "metadata": {},
   "outputs": [],
   "source": [
    "# 정확도 지표는 비대칭한 데이터 세트에서 Positive에 대한 예측 정확도를 판단하지 못한 채 Negative에 대한 \n",
    "# 예측 정확도만으로도 분류의 정확도가 맴우 높게 나타나는 수치적인 판단 오류를 일으키게 됨\n",
    "# 데이터가 균형이 잡혀있으면 정확도 지표도 괜찮지만 불균형한 경우 문제가 생길 수 있음\n",
    "\n",
    "# 정밀도 : 예측값이 1인 것중에 맞힌 값의 비율\n",
    "# 재현율 : 실제값이 1인 것중에 맞힌 값의 비율"
   ]
  },
  {
   "cell_type": "code",
   "execution_count": 11,
   "id": "85301fc3-8ae2-44c2-b3d5-acee7bc668ec",
   "metadata": {},
   "outputs": [],
   "source": [
    "### 정밀도와 재현율 구하기\n",
    "# 정밀도 : 46/(15+46)\n",
    "# 재현도(민감도, tpr) : 46/(15+46)\n",
    "# 정밀도와 재현율은 둘 다 높을수록 좋지만 그러기 어렵기 때문에 이진 분류 모델의 업무 특성에 따라 특정 평가 지표가 더 중요한\n",
    "# 지표로 간주될 수 있음. 재현율이 중요지표인 경우 실제 Positive 양성 데이터를 Negative로 잘못 판단했을 때 업무상 큰 영향이 발생하는 경우\n",
    "# 예) 암 판단 모델, 보험사기 적발 모델은 재현율이 중요\n",
    "# 실제 긴데 아니라고 하면 심각해짐 -> 재현율 중요\n",
    "# 실제 아닌데 기라고 하면 심각해짐 -> 정밀도 중요"
   ]
  },
  {
   "cell_type": "code",
   "execution_count": 12,
   "id": "f8cbc228-56a0-4ceb-9be3-e318718980bf",
   "metadata": {},
   "outputs": [],
   "source": [
    "from sklearn.metrics import recall_score,precision_score"
   ]
  },
  {
   "cell_type": "code",
   "execution_count": 13,
   "id": "93581309-2ea1-4315-82a0-128db919b48e",
   "metadata": {},
   "outputs": [
    {
     "data": {
      "text/plain": [
       "0.7540983606557377"
      ]
     },
     "execution_count": 13,
     "metadata": {},
     "output_type": "execute_result"
    }
   ],
   "source": [
    "### 1) 재현율 구하기\n",
    "recall_score(y_test,pred)"
   ]
  },
  {
   "cell_type": "code",
   "execution_count": 14,
   "id": "95b4dda1-2acd-423f-9c5b-f2cf93dcdec3",
   "metadata": {},
   "outputs": [
    {
     "data": {
      "text/plain": [
       "0.7540983606557377"
      ]
     },
     "execution_count": 14,
     "metadata": {},
     "output_type": "execute_result"
    }
   ],
   "source": [
    "### 2) 정밀도 구하기\n",
    "precision_score(y_test,pred)"
   ]
  },
  {
   "cell_type": "code",
   "execution_count": 15,
   "id": "96f06da0-bb87-4fb4-90df-60168c7ed0cf",
   "metadata": {},
   "outputs": [],
   "source": [
    "from sklearn.metrics import accuracy_score,confusion_matrix,recall_score,precision_score"
   ]
  },
  {
   "cell_type": "code",
   "execution_count": 16,
   "id": "59ff982c-a87f-4b4e-b654-51715293ef8a",
   "metadata": {},
   "outputs": [],
   "source": [
    "# 함수로 만들기\n",
    "def get_clf_eval(y_test,pred):\n",
    "    from sklearn.metrics import accuracy_score,confusion_matrix,recall_score,precision_score\n",
    "    accuracy = accuracy_score(y_test,pred)\n",
    "    confusion = confusion_matrix(y_test,pred)\n",
    "    precision = precision_score(y_test,pred)\n",
    "    recall = recall_score(y_test,pred)\n",
    "    print('오차행렬')\n",
    "    print(confusion)\n",
    "    print(f'정확도: {accuracy:.4f} 정밀도: {precision:.4f} 재현율: {recall:.4f}')"
   ]
  },
  {
   "cell_type": "code",
   "execution_count": 17,
   "id": "ca71f78f-0d5b-43bb-b351-91981118e53c",
   "metadata": {},
   "outputs": [
    {
     "name": "stdout",
     "output_type": "stream",
     "text": [
      "오차행렬\n",
      "[[103  15]\n",
      " [ 15  46]]\n",
      "정확도: 0.8324 정밀도: 0.7541 재현율: 0.7541\n"
     ]
    }
   ],
   "source": [
    "# 제대로 동작하는지 확인\n",
    "get_clf_eval(y_test,pred)"
   ]
  },
  {
   "cell_type": "code",
   "execution_count": 18,
   "id": "2ec31e89-319c-4744-967a-61cc60a8e399",
   "metadata": {},
   "outputs": [],
   "source": [
    "from sklearn.linear_model import LogisticRegression"
   ]
  },
  {
   "cell_type": "code",
   "execution_count": 19,
   "id": "cb3a9ad1-ab0d-4534-93b4-f078881e4c39",
   "metadata": {},
   "outputs": [
    {
     "name": "stdout",
     "output_type": "stream",
     "text": [
      "['A' 'B' 'C' 'D' 'E' 'F' 'G' 'N' 'T']\n",
      "['female' 'male']\n",
      "['C' 'N' 'Q' 'S']\n"
     ]
    }
   ],
   "source": [
    "titanic_df = transform_features()\n",
    "from sklearn.model_selection import train_test_split\n",
    "X_df = titanic_df.drop(columns=['Survived'])\n",
    "y_df = titanic_df['Survived']\n",
    "X_train,X_test,y_train,y_test = train_test_split(X_df,y_df,test_size=0.2,random_state=11)"
   ]
  },
  {
   "cell_type": "code",
   "execution_count": 20,
   "id": "d072b8ba-0736-4e3d-99a3-300d9d01de1d",
   "metadata": {},
   "outputs": [
    {
     "name": "stdout",
     "output_type": "stream",
     "text": [
      "오차행렬\n",
      "[[108  10]\n",
      " [ 14  47]]\n",
      "정확도: 0.8659 정밀도: 0.8246 재현율: 0.7705\n"
     ]
    }
   ],
   "source": [
    "lr_clf = LogisticRegression(solver='liblinear')\n",
    "lr_clf.fit(X_train,y_train)\n",
    "pred = lr_clf.predict(X_test)\n",
    "get_clf_eval(y_test,pred)"
   ]
  },
  {
   "cell_type": "code",
   "execution_count": 21,
   "id": "6d49d746-0d3a-4763-8ffe-00583e16ff66",
   "metadata": {},
   "outputs": [],
   "source": [
    "pred_proba = lr_clf.predict_proba(X_test)"
   ]
  },
  {
   "cell_type": "code",
   "execution_count": 23,
   "id": "6eccb182-3314-443a-a940-4e6da7d57156",
   "metadata": {},
   "outputs": [
    {
     "data": {
      "text/plain": [
       "(179, 2)"
      ]
     },
     "execution_count": 23,
     "metadata": {},
     "output_type": "execute_result"
    }
   ],
   "source": [
    "pred_proba.shape  # 데이터 179개, 열 2개"
   ]
  },
  {
   "cell_type": "code",
   "execution_count": 26,
   "id": "ab606a6a-e29b-4e36-bfe8-36c0ab68240e",
   "metadata": {},
   "outputs": [
    {
     "data": {
      "text/plain": [
       "array([1, 0, 0], dtype=int64)"
      ]
     },
     "execution_count": 26,
     "metadata": {},
     "output_type": "execute_result"
    }
   ],
   "source": [
    "pred[:3] # 1차원"
   ]
  },
  {
   "cell_type": "code",
   "execution_count": 25,
   "id": "c8283557-8eed-412b-bdbf-1e978a27df1e",
   "metadata": {},
   "outputs": [
    {
     "data": {
      "text/plain": [
       "array([[0.44935228, 0.55064772],\n",
       "       [0.86335513, 0.13664487],\n",
       "       [0.86429646, 0.13570354]])"
      ]
     },
     "execution_count": 25,
     "metadata": {},
     "output_type": "execute_result"
    }
   ],
   "source": [
    "pred_proba [:3] # 2차원\n",
    "# 0일 확률 0.44935228 1일 확률 0.55064772이니 결정값 1\n",
    "# 1일 될 확률이 0.5보다 크면 1이됨\n",
    "# 3개만 보기 위해 [:3]"
   ]
  },
  {
   "cell_type": "code",
   "execution_count": 27,
   "id": "7965506c-c519-4d73-a8eb-495779e1c9c9",
   "metadata": {},
   "outputs": [],
   "source": [
    "import numpy as np"
   ]
  },
  {
   "cell_type": "code",
   "execution_count": 30,
   "id": "a9cb9036-1062-4a4f-9833-ea94cc13969f",
   "metadata": {},
   "outputs": [
    {
     "data": {
      "text/plain": [
       "array([[0.44935228, 0.55064772, 1.        ],\n",
       "       [0.86335513, 0.13664487, 0.        ],\n",
       "       [0.86429646, 0.13570354, 0.        ]])"
      ]
     },
     "execution_count": 30,
     "metadata": {},
     "output_type": "execute_result"
    }
   ],
   "source": [
    "pred_proba_result = np.concatenate([pred_proba,pred.reshape(-1,1)],axis=1) # 컬럼 단위로 붙이기 위해 axis=1\n",
    "pred_proba_result[:3]  # [0일확률, 1일확률, 결정값]"
   ]
  },
  {
   "cell_type": "code",
   "execution_count": 31,
   "id": "b262bb60-0619-4ae8-84dc-171f197cc125",
   "metadata": {},
   "outputs": [],
   "source": [
    "from sklearn.preprocessing import Binarizer"
   ]
  },
  {
   "cell_type": "code",
   "execution_count": 32,
   "id": "8a176961-75dd-4825-8778-7b7004f7b5a7",
   "metadata": {},
   "outputs": [],
   "source": [
    "X=[[1,-1,2],\n",
    "   [2,0,0],\n",
    "   [0,1.1,1.2]]  # 2차원의 리스트형태"
   ]
  },
  {
   "cell_type": "code",
   "execution_count": 35,
   "id": "1dbc85cc-16a1-405b-8fe1-00eef9d1999b",
   "metadata": {},
   "outputs": [],
   "source": [
    "bi = Binarizer()"
   ]
  },
  {
   "cell_type": "code",
   "execution_count": 36,
   "id": "dad2de22-8f36-45c1-ac37-0be184f2d30a",
   "metadata": {},
   "outputs": [
    {
     "data": {
      "text/plain": [
       "array([[1., 0., 1.],\n",
       "       [1., 0., 0.],\n",
       "       [0., 1., 1.]])"
      ]
     },
     "execution_count": 36,
     "metadata": {},
     "output_type": "execute_result"
    }
   ],
   "source": [
    "bi.fit_transform(X)  # 임계값을 0.0를 기준으로 0.0까지는 0이고 그것보다 크면 1"
   ]
  },
  {
   "cell_type": "code",
   "execution_count": 37,
   "id": "73b7d962-d261-4540-b187-faab3706c67f",
   "metadata": {},
   "outputs": [],
   "source": [
    "bi = Binarizer(threshold=1.1)  # 임계값을 1.1을 기준으로 할 때"
   ]
  },
  {
   "cell_type": "code",
   "execution_count": 38,
   "id": "db1d8e3b-619d-41f3-b009-2dd1f3a526fe",
   "metadata": {},
   "outputs": [
    {
     "data": {
      "text/plain": [
       "array([[0., 0., 1.],\n",
       "       [1., 0., 0.],\n",
       "       [0., 0., 1.]])"
      ]
     },
     "execution_count": 38,
     "metadata": {},
     "output_type": "execute_result"
    }
   ],
   "source": [
    "bi.fit_transform(X)"
   ]
  },
  {
   "cell_type": "code",
   "execution_count": 42,
   "id": "4d06fd77-e096-4f6b-9aa3-23652b647ee2",
   "metadata": {
    "tags": []
   },
   "outputs": [],
   "source": [
    "custom_threshold = 0.5\n",
    "pred_proba_1 = pred_proba[:,1].reshape(-1,1) \n",
    "# 행은 전부, 열은 둘 중 1일 확률인 뒤의 것만 가져와도 구분됨\n",
    "# 1차원을 2차원으로 만들기 위해 reshape\n",
    "bi = Binarizer(threshold=custom_threshold)\n",
    "custom_predict = bi.fit_transform(pred_proba_1)"
   ]
  },
  {
   "cell_type": "code",
   "execution_count": 43,
   "id": "1dd5ce84-dc75-4f28-ab7c-75792b45a609",
   "metadata": {},
   "outputs": [
    {
     "name": "stdout",
     "output_type": "stream",
     "text": [
      "오차행렬\n",
      "[[108  10]\n",
      " [ 14  47]]\n",
      "정확도: 0.8659 정밀도: 0.8246 재현율: 0.7705\n"
     ]
    }
   ],
   "source": [
    "get_clf_eval(y_test,custom_predict)\n",
    "# 오차행렬\n",
    "# [[108  10]\n",
    "#  [ 14  47]]\n",
    "# 정확도: 0.8659 정밀도: 0.8246 재현율: 0.7705\n",
    "\n",
    "# 임계치를 0.5로 했구나"
   ]
  },
  {
   "cell_type": "code",
   "execution_count": 45,
   "id": "cac45755-edbb-4081-a7e0-7cce70a875e0",
   "metadata": {},
   "outputs": [
    {
     "name": "stdout",
     "output_type": "stream",
     "text": [
      "오차행렬\n",
      "[[97 21]\n",
      " [11 50]]\n",
      "정확도: 0.8212 정밀도: 0.7042 재현율: 0.8197\n"
     ]
    }
   ],
   "source": [
    "custom_threshold = 0.4  # 임계치 줄임 -> 1로 예측될 확률이 높아져 재현율 상승, 정밀동 하락(반대방향으로 움직임)\n",
    "pred_proba_1 = pred_proba[:,1].reshape(-1,1) \n",
    "# 행은 전부, 열은 둘 중 1일 확률인 뒤의 것만 가져와도 구분됨\n",
    "# 1차원을 2차원으로 만들기 위해 reshape\n",
    "bi = Binarizer(threshold=custom_threshold)\n",
    "custom_predict = bi.fit_transform(pred_proba_1)\n",
    "get_clf_eval(y_test,custom_predict)"
   ]
  },
  {
   "cell_type": "code",
   "execution_count": 48,
   "id": "2cd5744e-4a38-4894-80c2-df7a0c2d38d1",
   "metadata": {},
   "outputs": [],
   "source": [
    "thresholds = [0.4,0.45,0.5,0.55,0.6]\n",
    "def get_eval_by_threshold(y_test,pred_proba_c1,thresholds): # 1이라고 예측한 확률 pred_proba_c1\n",
    "    for threshold in thresholds:\n",
    "        bi = Binarizer(threshold=threshold)\n",
    "        custom_predict = bi.fit_transform(pred_proba_c1)\n",
    "        print('임계값 :', threshold)\n",
    "        get_clf_eval(y_test,custom_predict)"
   ]
  },
  {
   "cell_type": "code",
   "execution_count": 49,
   "id": "a796b26b-ed6b-4bf2-a6ed-82d7e13788bb",
   "metadata": {},
   "outputs": [
    {
     "name": "stdout",
     "output_type": "stream",
     "text": [
      "임계값 : 0.4\n",
      "오차행렬\n",
      "[[97 21]\n",
      " [11 50]]\n",
      "정확도: 0.8212 정밀도: 0.7042 재현율: 0.8197\n",
      "임계값 : 0.45\n",
      "오차행렬\n",
      "[[105  13]\n",
      " [ 13  48]]\n",
      "정확도: 0.8547 정밀도: 0.7869 재현율: 0.7869\n",
      "임계값 : 0.5\n",
      "오차행렬\n",
      "[[108  10]\n",
      " [ 14  47]]\n",
      "정확도: 0.8659 정밀도: 0.8246 재현율: 0.7705\n",
      "임계값 : 0.55\n",
      "오차행렬\n",
      "[[111   7]\n",
      " [ 16  45]]\n",
      "정확도: 0.8715 정밀도: 0.8654 재현율: 0.7377\n",
      "임계값 : 0.6\n",
      "오차행렬\n",
      "[[113   5]\n",
      " [ 17  44]]\n",
      "정확도: 0.8771 정밀도: 0.8980 재현율: 0.7213\n"
     ]
    }
   ],
   "source": [
    "get_eval_by_threshold(y_test,pred_proba_1,thresholds)"
   ]
  },
  {
   "cell_type": "code",
   "execution_count": null,
   "id": "1643cf00-a268-43a8-9880-e82f0c83bd7f",
   "metadata": {},
   "outputs": [],
   "source": [
    "# 0.45로 하는 것이 0.5로 하는 것이 더 좋음 -> 정밀도와 재현율이 같이"
   ]
  },
  {
   "cell_type": "code",
   "execution_count": null,
   "id": "1cb119dc-f5b0-40a2-a003-309ef141e157",
   "metadata": {},
   "outputs": [],
   "source": []
  }
 ],
 "metadata": {
  "kernelspec": {
   "display_name": "Python 3 (ipykernel)",
   "language": "python",
   "name": "python3"
  },
  "language_info": {
   "codemirror_mode": {
    "name": "ipython",
    "version": 3
   },
   "file_extension": ".py",
   "mimetype": "text/x-python",
   "name": "python",
   "nbconvert_exporter": "python",
   "pygments_lexer": "ipython3",
   "version": "3.9.12"
  }
 },
 "nbformat": 4,
 "nbformat_minor": 5
}

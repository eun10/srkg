{
 "cells": [
  {
   "cell_type": "code",
   "execution_count": 1,
   "id": "72fe230a-7351-4014-9562-a7cac836638b",
   "metadata": {},
   "outputs": [],
   "source": [
    "from sklearn.base import BaseEstimator # BaseEstimator가 부모?"
   ]
  },
  {
   "cell_type": "code",
   "execution_count": 12,
   "id": "0d84f835-0719-4e81-9821-16a12072e7c0",
   "metadata": {},
   "outputs": [],
   "source": [
    "### 클래스 만들기\n",
    "class MyDummyClassifier(BaseEstimator): # BaseEstimator에서 상속받아 만듦\n",
    "    def fit(self,X,y=None):  \n",
    "        pass\n",
    "    def predict(self,X):\n",
    "        import numpy as np\n",
    "        pred = np.zeros((X.shape[0],1))  # 행렬을 만드는데 0으로 채워진 것을 만든다. () 안에 몇 행 몇 열인지 적음\n",
    "        # 행단위로 데이터가 2건이 들어오면 2행이, 열은 1개\n",
    "        for i in range(X.shape[0]): # 데이터 건수만큼 반복\n",
    "            if X['Sex'].iloc[i] == 1: \n",
    "                pred[i] = 0 # 학습시키지 않고 데이터 보고 남자인 경우 사망?\n",
    "            else:\n",
    "                pred[i] = 1\n",
    "        return pred"
   ]
  },
  {
   "cell_type": "code",
   "execution_count": 15,
   "id": "7a091242-eebb-4629-837c-ec2539d1178d",
   "metadata": {},
   "outputs": [],
   "source": [
    "def fillna(df):\n",
    "    df['Age'].fillna(df['Age'].mean(),inplace=True)\n",
    "    df['Cabin'].fillna('N',inplace=True)\n",
    "    df['Embarked'].fillna('N',inplace=True)\n",
    "    df['Fare'].fillna(0,inplace=True)\n",
    "    return df\n",
    "def drop_features(df):\n",
    "    df.drop(columns = ['PassengerId','Name','Ticket'],inplace=True) # 필요없는 열 제거\n",
    "    return df\n",
    "def format_features(df):\n",
    "    from sklearn.preprocessing import LabelEncoder\n",
    "    df['Cabin'] = df['Cabin'].str[0]\n",
    "    features = ['Cabin','Sex','Embarked']\n",
    "    for feature in features: # 각 열의 레이블을 만들고 학습\n",
    "        le = LabelEncoder()\n",
    "        df[feature] = le.fit_transform(df[feature]) # 변경된 것을 원래 위치에 넣기\n",
    "        print(le.classes_)\n",
    "    return df\n",
    "def transform_features():\n",
    "    import pandas as pd\n",
    "    df = pd.read_csv('titanic_train.csv')\n",
    "    df = fillna(df)\n",
    "    df = drop_features(df)\n",
    "    df = format_features(df)\n",
    "    return df"
   ]
  },
  {
   "cell_type": "code",
   "execution_count": 16,
   "id": "288b5e09-48cb-4bae-8156-a994a3cf7f86",
   "metadata": {},
   "outputs": [
    {
     "name": "stdout",
     "output_type": "stream",
     "text": [
      "['A' 'B' 'C' 'D' 'E' 'F' 'G' 'N' 'T']\n",
      "['female' 'male']\n",
      "['C' 'N' 'Q' 'S']\n"
     ]
    }
   ],
   "source": [
    "titanic_df = transform_features() # 데이터 가져오기"
   ]
  },
  {
   "cell_type": "code",
   "execution_count": 17,
   "id": "b9d93934-bc7f-4502-aa63-d2a8d9f18370",
   "metadata": {},
   "outputs": [],
   "source": [
    "# x값 y값 분리\n",
    "from sklearn.model_selection import train_test_split\n",
    "X_df = titanic_df.drop(columns=['Survived'])\n",
    "y_df = titanic_df['Survived']\n",
    "X_train,X_test,y_train,y_test = train_test_split(X_df,y_df,test_size=0.2,random_state=11)"
   ]
  },
  {
   "cell_type": "code",
   "execution_count": 18,
   "id": "7130623c-9a64-45f6-987c-e4f6e0d8ecc1",
   "metadata": {},
   "outputs": [],
   "source": [
    "from sklearn.metrics import accuracy_score"
   ]
  },
  {
   "cell_type": "code",
   "execution_count": 20,
   "id": "f80636ff-41c1-4c4e-9a3d-8d6cae7a3df7",
   "metadata": {},
   "outputs": [
    {
     "data": {
      "text/plain": [
       "0.8324022346368715"
      ]
     },
     "execution_count": 20,
     "metadata": {},
     "output_type": "execute_result"
    }
   ],
   "source": [
    "# 만들어둔 모델에 넣고 확인\n",
    "my = MyDummyClassifier()\n",
    "my.fit(X_train,y_train)\n",
    "pred = my.predict(X_test)\n",
    "accuracy_score(y_test,pred)\n",
    "# 성별에 따라 생존여부를 나누었을 때 정확도가 83.24% \n",
    "# -> 정확도만으로는 모델이 학습이 잘 되었는지 판단하기가 어려움"
   ]
  },
  {
   "cell_type": "code",
   "execution_count": null,
   "id": "e374705d-8b78-450c-a67d-90a13f577756",
   "metadata": {},
   "outputs": [],
   "source": []
  }
 ],
 "metadata": {
  "kernelspec": {
   "display_name": "Python 3 (ipykernel)",
   "language": "python",
   "name": "python3"
  },
  "language_info": {
   "codemirror_mode": {
    "name": "ipython",
    "version": 3
   },
   "file_extension": ".py",
   "mimetype": "text/x-python",
   "name": "python",
   "nbconvert_exporter": "python",
   "pygments_lexer": "ipython3",
   "version": "3.9.12"
  }
 },
 "nbformat": 4,
 "nbformat_minor": 5
}
